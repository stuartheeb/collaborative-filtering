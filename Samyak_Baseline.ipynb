{
  "cells": [
    {
      "cell_type": "markdown",
      "metadata": {
        "id": "view-in-github",
        "colab_type": "text"
      },
      "source": [
        "<a href=\"https://colab.research.google.com/github/stuartheeb/cil-runtime-terror/blob/main/Samyak_Baseline.ipynb\" target=\"_parent\"><img src=\"https://colab.research.google.com/assets/colab-badge.svg\" alt=\"Open In Colab\"/></a>"
      ]
    },
    {
      "cell_type": "code",
      "execution_count": null,
      "id": "e91b7c84",
      "metadata": {
        "id": "e91b7c84"
      },
      "outputs": [],
      "source": [
        "import pandas as pd\n",
        "import numpy as np\n",
        "import math"
      ]
    },
    {
      "cell_type": "code",
      "source": [
        "from google.colab import drive\n",
        "drive.mount('/content/drive')"
      ],
      "metadata": {
        "colab": {
          "base_uri": "https://localhost:8080/"
        },
        "id": "wV0FPKlfcpSV",
        "outputId": "41b2828f-3742-47be-deec-b87153dafbb6"
      },
      "id": "wV0FPKlfcpSV",
      "execution_count": null,
      "outputs": [
        {
          "output_type": "stream",
          "name": "stdout",
          "text": [
            "Drive already mounted at /content/drive; to attempt to forcibly remount, call drive.mount(\"/content/drive\", force_remount=True).\n"
          ]
        }
      ]
    },
    {
      "cell_type": "markdown",
      "source": [
        "**Load Data**"
      ],
      "metadata": {
        "id": "TRlZsA41Kyv_"
      },
      "id": "TRlZsA41Kyv_"
    },
    {
      "cell_type": "code",
      "execution_count": null,
      "id": "fa5cd23d",
      "metadata": {
        "colab": {
          "base_uri": "https://localhost:8080/"
        },
        "id": "fa5cd23d",
        "outputId": "8daeb08a-a30a-4c31-9bc5-1021f2d58bf5"
      },
      "outputs": [
        {
          "output_type": "stream",
          "name": "stdout",
          "text": [
            "       Id  Prediction\n",
            "0  r44_c1           4\n",
            "1  r61_c1           3\n",
            "2  r67_c1           4\n",
            "3  r72_c1           3\n",
            "4  r86_c1           5\n",
            "\n",
            "Shape (1176952, 2)\n"
          ]
        }
      ],
      "source": [
        "number_of_users, number_of_movies = (10000, 1000)\n",
        "data_pd = pd.read_csv('drive/My Drive/data_train.csv')\n",
        "print(data_pd.head(5))\n",
        "print()\n",
        "print('Shape', data_pd.shape)"
      ]
    },
    {
      "cell_type": "markdown",
      "source": [
        "**Create User-Item Matrix (-1 = missing rating)**"
      ],
      "metadata": {
        "id": "JheLb7UDLA1y"
      },
      "id": "JheLb7UDLA1y"
    },
    {
      "cell_type": "code",
      "execution_count": null,
      "id": "0686632a",
      "metadata": {
        "id": "0686632a"
      },
      "outputs": [],
      "source": [
        "def extract_users_items_predictions(data_pd):\n",
        "    users, movies = \\\n",
        "        [np.squeeze(arr) for arr in np.split(data_pd.Id.str.extract('r(\\d+)_c(\\d+)').values.astype(int) - 1, 2, axis=-1)]\n",
        "    predictions = data_pd.Prediction.values\n",
        "    return users, movies, predictions\n",
        "\n",
        "train_users, train_movies, train_predictions = extract_users_items_predictions(data_pd)\n",
        "data = np.full((number_of_users, number_of_movies), -1)\n",
        "\n",
        "\n",
        "for user, movie, pred in zip(train_users, train_movies, train_predictions):\n",
        "    data[user][movie] = pred\n",
        "  "
      ]
    },
    {
      "cell_type": "code",
      "execution_count": null,
      "id": "684ef4ef",
      "metadata": {
        "colab": {
          "base_uri": "https://localhost:8080/"
        },
        "id": "684ef4ef",
        "outputId": "7dc27c63-a244-412f-9866-511a5b3dd308"
      },
      "outputs": [
        {
          "output_type": "execute_result",
          "data": {
            "text/plain": [
              "array([[-1, -1, -1, ..., -1, -1, -1],\n",
              "       [-1, -1, -1, ...,  5,  3,  3],\n",
              "       [-1, -1, -1, ..., -1, -1, -1],\n",
              "       ...,\n",
              "       [-1, -1, -1, ..., -1, -1, -1],\n",
              "       [-1, -1, -1, ..., -1, -1, -1],\n",
              "       [-1, -1, -1, ..., -1, -1,  3]])"
            ]
          },
          "metadata": {},
          "execution_count": 5
        }
      ],
      "source": [
        "data"
      ]
    },
    {
      "cell_type": "markdown",
      "source": [
        "**Normalize the data along Item**"
      ],
      "metadata": {
        "id": "uOHrhpoILQlH"
      },
      "id": "uOHrhpoILQlH"
    },
    {
      "cell_type": "code",
      "execution_count": null,
      "id": "23de59eb",
      "metadata": {
        "id": "23de59eb"
      },
      "outputs": [],
      "source": [
        "mean_rating = []\n",
        "std_rating = []\n",
        "norm_data = np.zeros((number_of_users, number_of_movies))\n",
        "for i in range(1000):\n",
        "    total_movie_rating = []\n",
        "    for j in range(10000):\n",
        "        if data[j][i] != -1:\n",
        "            total_movie_rating.append(data[j][i])\n",
        "    mean_movie_rating = 0\n",
        "    std_movie_rating = 0\n",
        "    \n",
        "    if len(total_movie_rating)!=0:\n",
        "        mean_movie_rating = np.mean(total_movie_rating)\n",
        "        std_movie_rating = np.std(total_movie_rating)\n",
        "    mean_rating.append(mean_movie_rating)\n",
        "    std_rating.append(std_movie_rating)\n",
        "    for j in range(10000):\n",
        "        if data[j][i] != -1:\n",
        "            norm_data[j][i] = (float(data[j][i] - mean_movie_rating)) / std_movie_rating"
      ]
    },
    {
      "cell_type": "markdown",
      "source": [
        "**Perform SVD**"
      ],
      "metadata": {
        "id": "SwfWqZ_9LXa0"
      },
      "id": "SwfWqZ_9LXa0"
    },
    {
      "cell_type": "code",
      "execution_count": null,
      "id": "7bf8e6fd",
      "metadata": {
        "id": "7bf8e6fd"
      },
      "outputs": [],
      "source": [
        "k_singular_values = 3\n",
        "number_of_singular_values = min(number_of_users, number_of_movies)\n",
        "\n",
        "assert(k_singular_values <= number_of_singular_values), \"choose correct number of singular values\"\n",
        "\n",
        "U, s, Vt = np.linalg.svd(norm_data, full_matrices=False)\n",
        "\n",
        "S = np.zeros((number_of_movies, number_of_movies))\n",
        "S[:k_singular_values, :k_singular_values] = np.diag(s[:k_singular_values])\n",
        "\n",
        "reconstructed_matrix = U.dot(S).dot(Vt)"
      ]
    },
    {
      "cell_type": "markdown",
      "source": [
        "**ALS Method with SVD Initialization**"
      ],
      "metadata": {
        "id": "V92Q0vDdLhHu"
      },
      "id": "V92Q0vDdLhHu"
    },
    {
      "cell_type": "code",
      "source": [
        "class ExplicitMF:\n",
        "    \"\"\"\n",
        "    Train a matrix factorization model using Alternating Least Squares\n",
        "    to predict empty entries in a matrix\n",
        "    \n",
        "    Parameters\n",
        "    ----------\n",
        "    n_iters : int\n",
        "        number of iterations to train the algorithm\n",
        "        \n",
        "    n_factors : int\n",
        "        number of latent factors to use in matrix \n",
        "        factorization model, some machine-learning libraries\n",
        "        denote this as rank\n",
        "        \n",
        "    reg : float\n",
        "        regularization term for item/user latent factors,\n",
        "        since lambda is a keyword in python we use reg instead\n",
        "    \"\"\"\n",
        "\n",
        "    def __init__(self, n_iters, n_factors, reg):\n",
        "        self.reg = reg\n",
        "        self.n_iters = n_iters\n",
        "        self.n_factors = n_factors  \n",
        "        \n",
        "    def fit(self, train, test):\n",
        "        \"\"\"\n",
        "        pass in training and testing at the same time to record\n",
        "        model convergence, assuming both dataset is in the form\n",
        "        of User x Item matrix with cells as ratings\n",
        "        \"\"\"\n",
        "        self.n_user, self.n_item = train.shape\n",
        "        self.user_factors = np.random.random((self.n_user, self.n_factors))\n",
        "        self.item_factors = np.random.random((self.n_item, self.n_factors))\n",
        "        \n",
        "        # record the training and testing mse for every iteration\n",
        "        # to show convergence later (usually, not worth it for production)\n",
        "        self.test_mse_record  = []\n",
        "        self.train_mse_record = []   \n",
        "        for _ in range(self.n_iters):\n",
        "            self.user_factors = self._als_step(train, self.user_factors, self.item_factors)\n",
        "            self.item_factors = self._als_step(train.T, self.item_factors, self.user_factors) \n",
        "            predictions = self.predict()\n",
        "        \n",
        "        return self    \n",
        "    \n",
        "    def _als_step(self, ratings, solve_vecs, fixed_vecs):\n",
        "        \"\"\"\n",
        "        when updating the user matrix,\n",
        "        the item matrix is the fixed vector and vice versa\n",
        "        \"\"\"\n",
        "        A = fixed_vecs.T.dot(fixed_vecs) + np.eye(self.n_factors) * self.reg\n",
        "        b = ratings.dot(fixed_vecs)\n",
        "        A_inv = np.linalg.inv(A)\n",
        "        solve_vecs = b.dot(A_inv)\n",
        "        return solve_vecs\n",
        "    \n",
        "    def predict(self):\n",
        "        \"\"\"predict ratings for every user and item\"\"\"\n",
        "        pred = self.user_factors.dot(self.item_factors.T)\n",
        "        return pred\n",
        " "
      ],
      "metadata": {
        "id": "XRFtbPFE9Vxc"
      },
      "id": "XRFtbPFE9Vxc",
      "execution_count": null,
      "outputs": []
    },
    {
      "cell_type": "code",
      "source": [
        "als = ExplicitMF(n_iters = 20, n_factors = 3, reg = 0.1)\n",
        "als.fit(reconstructed_matrix,reconstructed_matrix)"
      ],
      "metadata": {
        "colab": {
          "base_uri": "https://localhost:8080/"
        },
        "id": "YdO0BfS49V0B",
        "outputId": "6679c5c0-ac5f-402e-ef7f-69bd8b1eac98"
      },
      "id": "YdO0BfS49V0B",
      "execution_count": null,
      "outputs": [
        {
          "output_type": "execute_result",
          "data": {
            "text/plain": [
              "<__main__.ExplicitMF at 0x7fc7bb2e3750>"
            ]
          },
          "metadata": {},
          "execution_count": 11
        }
      ]
    },
    {
      "cell_type": "code",
      "source": [
        "predict_matrix = als.predict()"
      ],
      "metadata": {
        "id": "0G74uu309V2q"
      },
      "id": "0G74uu309V2q",
      "execution_count": null,
      "outputs": []
    },
    {
      "cell_type": "code",
      "source": [
        "for i in range(1000):\n",
        "    for j in range(10000):\n",
        "      predict_matrix[j][i] = predict_matrix[j][i] * std_rating[i] + mean_rating[i]"
      ],
      "metadata": {
        "id": "aIaI-nmT9WAH"
      },
      "id": "aIaI-nmT9WAH",
      "execution_count": null,
      "outputs": []
    },
    {
      "cell_type": "code",
      "source": [
        "predict_matrix"
      ],
      "metadata": {
        "colab": {
          "base_uri": "https://localhost:8080/"
        },
        "id": "DkBQXVbf9WFy",
        "outputId": "d3326054-c1ca-4158-8757-a172ef99585c"
      },
      "id": "DkBQXVbf9WFy",
      "execution_count": null,
      "outputs": [
        {
          "output_type": "execute_result",
          "data": {
            "text/plain": [
              "array([[3.37368071, 3.49815172, 3.4747804 , ..., 3.23837057, 3.34842777,\n",
              "        3.67829539],\n",
              "       [3.35932916, 3.4962577 , 3.45617099, ..., 3.24086679, 3.33558994,\n",
              "        3.64978608],\n",
              "       [3.35654582, 3.49418393, 3.46953203, ..., 3.22900577, 3.32434184,\n",
              "        3.60498506],\n",
              "       ...,\n",
              "       [3.3745746 , 3.49674744, 3.48316892, ..., 3.23184541, 3.34507985,\n",
              "        3.664877  ],\n",
              "       [3.36804292, 3.49359901, 3.47585139, ..., 3.22911244, 3.33750603,\n",
              "        3.65342832],\n",
              "       [3.39783717, 3.51726267, 3.51448895, ..., 3.25148143, 3.37448746,\n",
              "        3.67449417]])"
            ]
          },
          "metadata": {},
          "execution_count": 14
        }
      ]
    },
    {
      "cell_type": "markdown",
      "source": [
        "**Evaluation of Matrix**"
      ],
      "metadata": {
        "id": "Ibt6nYi1LqoO"
      },
      "id": "Ibt6nYi1LqoO"
    },
    {
      "cell_type": "code",
      "execution_count": null,
      "id": "0021adfb",
      "metadata": {
        "id": "0021adfb"
      },
      "outputs": [],
      "source": [
        "from sklearn.metrics import mean_squared_error\n",
        "\n",
        "rmse = lambda x, y: math.sqrt(mean_squared_error(x, y))\n",
        "\n",
        "\n",
        "# test our predictions with the true values\n",
        "def get_score(predictions, target_values):\n",
        "    return rmse(predictions, target_values)\n",
        "\n",
        "def extract_prediction_from_full_matrix(reconstructed_matrix, users, movies):\n",
        "    # returns predictions for the users-movies combinations specified based on a full m \\times n matrix\n",
        "    assert(len(users) == len(movies)), \"users-movies combinations specified should have equal length\"\n",
        "    predictions = np.zeros(len(users))\n",
        "\n",
        "    for i, (user, movie) in enumerate(zip(users, movies)):\n",
        "        predictions[i] = reconstructed_matrix[user][movie]\n",
        "\n",
        "    return predictions"
      ]
    },
    {
      "cell_type": "code",
      "execution_count": null,
      "id": "36acacb7",
      "metadata": {
        "colab": {
          "base_uri": "https://localhost:8080/"
        },
        "id": "36acacb7",
        "outputId": "2ec67d28-b083-4779-dabf-60cfb121d424"
      },
      "outputs": [
        {
          "output_type": "stream",
          "name": "stdout",
          "text": [
            "RMSE using SVD is: 1.0019\n"
          ]
        }
      ],
      "source": [
        "predictions = extract_prediction_from_full_matrix(predict_matrix,train_users,train_movies)\n",
        "\n",
        "print(\"RMSE using SVD is: {:.4f}\".format(get_score(predictions,train_predictions)))"
      ]
    },
    {
      "cell_type": "markdown",
      "source": [
        "**Submission Code**"
      ],
      "metadata": {
        "id": "KZu0juGeL4x4"
      },
      "id": "KZu0juGeL4x4"
    },
    {
      "cell_type": "code",
      "source": [
        "sub_pd = pd.read_csv('drive/My Drive/sampleSubmission.csv',index_col='Id')"
      ],
      "metadata": {
        "id": "C6hM1dFzL2RI"
      },
      "id": "C6hM1dFzL2RI",
      "execution_count": null,
      "outputs": []
    },
    {
      "cell_type": "code",
      "source": [
        "def extract_users_items_predictions(data_pd):\n",
        "    users, movies = [np.squeeze(arr) for arr in np.split(data_pd.index.str.extract('r(\\d+)_c(\\d+)').values.astype(int) - 1, 2, axis=-1)]\n",
        "    predictions = data_pd.Prediction.values\n",
        "    return users, movies, predictions\n",
        "\n",
        "users, movies, subpred = extract_users_items_predictions(sub_pd)\n",
        "\n",
        "# also create full matrix of observed values\n",
        "subdata = np.full((number_of_users, number_of_movies), 0)\n",
        "\n",
        "for user, movie, pred in zip(users, movies, subpred):\n",
        "  subdata[user][movie] = pred"
      ],
      "metadata": {
        "id": "qE81nwbwL2UC"
      },
      "id": "qE81nwbwL2UC",
      "execution_count": null,
      "outputs": []
    },
    {
      "cell_type": "code",
      "source": [
        "Id = []\n",
        "pred = []\n",
        "for j in range(1000):\n",
        "  for i in range(10000):\n",
        "    if subdata[i][j] != 0:\n",
        "      Id.append(\"r\"+str(i+1)+\"_c\"+str(j+1))\n",
        "      pred.append(predict_matrix[i][j])"
      ],
      "metadata": {
        "id": "9szrfUs2L2W6"
      },
      "id": "9szrfUs2L2W6",
      "execution_count": null,
      "outputs": []
    },
    {
      "cell_type": "code",
      "source": [
        "sub_pd['Prediction'] = pred"
      ],
      "metadata": {
        "id": "NeHD71rOL2Zu"
      },
      "id": "NeHD71rOL2Zu",
      "execution_count": null,
      "outputs": []
    },
    {
      "cell_type": "code",
      "source": [
        "sub_pd.to_csv(\"drive/My Drive/submission1.csv\")"
      ],
      "metadata": {
        "id": "_h5vnHVfL2dN"
      },
      "id": "_h5vnHVfL2dN",
      "execution_count": null,
      "outputs": []
    },
    {
      "cell_type": "code",
      "source": [
        ""
      ],
      "metadata": {
        "id": "fW7WshtvOFrb"
      },
      "id": "fW7WshtvOFrb",
      "execution_count": null,
      "outputs": []
    }
  ],
  "metadata": {
    "kernelspec": {
      "display_name": "Python 3 (ipykernel)",
      "language": "python",
      "name": "python3"
    },
    "language_info": {
      "codemirror_mode": {
        "name": "ipython",
        "version": 3
      },
      "file_extension": ".py",
      "mimetype": "text/x-python",
      "name": "python",
      "nbconvert_exporter": "python",
      "pygments_lexer": "ipython3",
      "version": "3.8.12"
    },
    "colab": {
      "name": "Baseline.ipynb",
      "provenance": [],
      "collapsed_sections": [],
      "include_colab_link": true
    }
  },
  "nbformat": 4,
  "nbformat_minor": 5
}