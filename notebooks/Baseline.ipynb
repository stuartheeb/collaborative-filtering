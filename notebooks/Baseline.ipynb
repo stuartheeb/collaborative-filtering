{
 "cells": [
  {
   "cell_type": "markdown",
   "metadata": {
    "id": "fH1tDqYXODnd"
   },
   "source": [
    "# Description"
   ]
  },
  {
   "cell_type": "markdown",
   "metadata": {
    "id": "DboqRCo_NhwK"
   },
   "source": [
    "This notebook includes the necessary code to run the baseline solution for the collaborative filtering Kaggle competition for the CIL 2022 course.\n",
    "\n",
    "You can run the baseline method in the 3 different modes available:\n",
    "\n",
    "1.   with parameter tuning.\n",
    "2.   with hard-coded parameter tuning result.\n",
    "3.   with the original parameters given by the course staff.\n",
    "\n",
    "Before you do, please run the entire \"Preprocess\" section. After that, choose one mode and run it. You can then create a submission file by running the section \"Create submission file\".\n"
   ]
  },
  {
   "cell_type": "markdown",
   "metadata": {
    "id": "_Vt7acoKM8wP"
   },
   "source": [
    "# Preprocess"
   ]
  },
  {
   "cell_type": "markdown",
   "metadata": {
    "id": "WUIuYSCENCk1"
   },
   "source": [
    "## Imports"
   ]
  },
  {
   "cell_type": "code",
   "execution_count": 1,
   "metadata": {
    "id": "ir8e-ogLMS0B"
   },
   "outputs": [],
   "source": [
    "import numpy as np\n",
    "import pandas as pd\n",
    "from tqdm.notebook import tqdm\n",
    "from sklearn.model_selection import train_test_split\n",
    "from typing import Tuple, List"
   ]
  },
  {
   "cell_type": "markdown",
   "metadata": {
    "id": "yyVtWL1vCipD"
   },
   "source": [
    "## Declare global parameters of data"
   ]
  },
  {
   "cell_type": "code",
   "execution_count": 2,
   "metadata": {
    "id": "hUfftTI_Cft1"
   },
   "outputs": [],
   "source": [
    "total_num_users = 10000\n",
    "total_num_movies = 1000"
   ]
  },
  {
   "cell_type": "markdown",
   "metadata": {
    "id": "ogmuKPI_UzVc"
   },
   "source": [
    "## Data parsing helper function declarations"
   ]
  },
  {
   "cell_type": "code",
   "execution_count": 3,
   "metadata": {
    "id": "Dm4_OA6-VPJw"
   },
   "outputs": [],
   "source": [
    "def parse_csv(csv_path: str) -> Tuple[np.ndarray, np.ndarray, np.ndarray]:\n",
    "  \"\"\"\n",
    "  Extract the arrays of user indices, item indices and ratings listed in a .csv file\n",
    "\n",
    "  :param csv_path: path to .csv file to read from\n",
    "  :return: 3 arrays containing the users indices, the item indices and the observed ratings in order  \n",
    "  \"\"\"\n",
    "  df = pd.read_csv(csv_path)\n",
    "  # extract user and item indices from the Id label in the dataframe\n",
    "  df = df.join(df.Id.str.extract(r\"r(?P<User>\\d+)_c(?P<Item>\\d+)\").astype(int) - 1)\n",
    "  # extract user, item and prediction triplets from dataframe\n",
    "  users = df.User.values\n",
    "  items = df.Item.values\n",
    "  preds = df.Prediction.values\n",
    "  return users, items, preds\n",
    "\n",
    "def construct_ratings_matrix(\n",
    "    users: np.ndarray,\n",
    "    items: np.ndarray,\n",
    "    ratings: np.ndarray,\n",
    "    n_users: int,\n",
    "    n_items: int\n",
    ") -> Tuple[np.ndarray, np.ndarray]:\n",
    "  \"\"\"\n",
    "  Constructs the ratings matrix with NaN values where no rating was observed\n",
    "\n",
    "  :param users: array of user indices\n",
    "  :param items: array of item indices\n",
    "  :param predictions: array of ratings per user-item pair\n",
    "  :param n_users: total number of users\n",
    "  :param n_items: total number of items\n",
    "  :return: the ratings matrix and the observed ratings mask\n",
    "  \"\"\"\n",
    "  ratings_matrix = np.zeros((n_users, n_items))\n",
    "  observed_mask = np.full((n_users, n_items), fill_value=False)\n",
    "  for r, c, v in zip(users, items, ratings):\n",
    "    observed_mask[r, c] = True\n",
    "    ratings_matrix[r][c] = v\n",
    "\n",
    "  ratings_matrix[~observed_mask] = np.nan\n",
    "\n",
    "  return ratings_matrix, observed_mask"
   ]
  },
  {
   "cell_type": "markdown",
   "metadata": {
    "id": "9pXPEMw24bAY"
   },
   "source": [
    "## Model function declarations"
   ]
  },
  {
   "cell_type": "code",
   "execution_count": 4,
   "metadata": {
    "id": "BKwuoKmfORj9"
   },
   "outputs": [],
   "source": [
    "def normalize(data: np.ndarray) -> Tuple[np.ndarray, np.ndarray, np.ndarray]:\n",
    "  \"\"\"\n",
    "  Normalizes the input data matrix per item (column). NaN entries are disregarded and are set to zero.  \n",
    "\n",
    "  :param data: matrix to normalize\n",
    "  :return: the normalized input matrix, the column-wise mean and the column-wise standard deviation\n",
    "  \"\"\"\n",
    "  # compute mean and std and normalized the matrix with NaN values\n",
    "  mean = np.nanmean(data, axis=0, keepdims=True)\n",
    "  std = np.nanstd(data, axis=0, keepdims=True)\n",
    "  normed_data = (data - mean) / std\n",
    "  # set the non-observed entries to 0\n",
    "  normed_data[np.isnan(normed_data)] = 0\n",
    "  return normed_data, mean, std\n",
    "\n",
    "\n",
    "def denormalize(data: np.ndarray, mean: np.ndarray, std: np.ndarray) -> np.ndarray:\n",
    "  \"\"\"\n",
    "  Denormalizes the input data matrix per item (column) by performing the inverse operation of the normalize function  \n",
    "\n",
    "  :param data: matrix to denormalize\n",
    "  :param mean: the column-wise mean of the unnormalized matrix\n",
    "  :param std: the column-wise std of the unnormalized matrix\n",
    "  :return: the denormalized matrix\n",
    "  \"\"\"\n",
    "  return (data * std) + mean\n",
    "\n",
    "\n",
    "def SVD(A: np.ndarray, k: int) -> np.ndarray:\n",
    "  \"\"\"\n",
    "  Computes the singular value decomposition of the input matrix, projected on\n",
    "  the subspace defined by the k largest singular values, as a 3-tuple\n",
    "\n",
    "  :param A: matrix to decompose\n",
    "  :param k: number of the largest singular values\n",
    "  :return: the projected singular value decomposition of A\n",
    "  \"\"\"\n",
    "  assert(k <= min(A.shape)), \"k should be no greater than the number of users or items.\"\n",
    "  U, S, VT = np.linalg.svd(A, full_matrices=False)\n",
    "  return U[:, :k], np.diag(S[:k]), VT[:k, :]\n",
    "\n",
    "\n",
    "def RMSE(x: np.ndarray, y: np.ndarray, mask: np.ndarray) -> float:\n",
    "  return np.sqrt(np.nansum(mask * (x - y) ** 2) / np.sum(mask))\n",
    "\n",
    "\n",
    "def ALS(\n",
    "    data: np.ndarray,\n",
    "    mask: np.ndarray,\n",
    "    U: np.ndarray,\n",
    "    VT: np.ndarray,\n",
    "    n_latent_factors: int,\n",
    "    regularization_param: float,\n",
    "    n_iterations: int\n",
    ") -> np.ndarray:\n",
    "  regularizer = regularization_param * np.eye(n_latent_factors)\n",
    "\n",
    "  with tqdm(total=n_iterations * (np.sum(mask.shape))) as pbar:\n",
    "    rmse_score = RMSE(data, U @ VT, mask)\n",
    "    pbar.set_description(f\"Initial RMSE score is {rmse_score:.4f}\")\n",
    "    for iter in range(n_iterations):\n",
    "      for i, Ri in enumerate(mask):\n",
    "        U[i] = np.linalg.solve(\n",
    "            np.dot(VT, np.dot(np.diag(Ri), VT.T)) + regularizer,\n",
    "            (np.dot(VT, np.dot(np.diag(Ri), data[i].T))).T\n",
    "        )\n",
    "        pbar.update(1)\n",
    "\n",
    "      for j, Rj in enumerate(mask.T):\n",
    "        VT[:,j] = np.linalg.solve(\n",
    "            np.dot(U.T, np.dot(np.diag(Rj), U)) + regularizer,\n",
    "            np.dot(U.T, np.dot(np.diag(Rj), data[:, j]))\n",
    "        )\n",
    "        pbar.update(1)\n",
    "\n",
    "      rmse_score = RMSE(data, U @ VT, mask)\n",
    "      pbar.set_description(f\"At iteration #{iter + 1} the RMSE score is {rmse_score:.4f}\")\n",
    "\n",
    "  return U @ VT\n",
    "\n",
    "\n",
    "def baseline(\n",
    "    data: np.ndarray,\n",
    "    mask: np.ndarray,\n",
    "    n_latent_factors: int,\n",
    "    regularization_param: float,\n",
    "    n_iterations: int\n",
    ") -> np.ndarray:\n",
    "  \"\"\"\n",
    "  Runs the baseline (normalization, SVD, ALS and then denormalization) method\n",
    "\n",
    "  :param data: the ratings matrix\n",
    "  :param mask: the matrix of observed ratings\n",
    "  :param n_latent_factors: the number of latent factor to use\n",
    "  :param regularization_param: the regularizer (lambda) to use in the ALS steps\n",
    "  :param n_iterations: the number of ALS iterations to do\n",
    "  :return: the predicted ratings matrix\n",
    "  \"\"\"\n",
    "  norm_data, data_mean, data_std = normalize(data)\n",
    "  U, _, VT = SVD(norm_data, n_latent_factors)\n",
    "  pred_ratings = ALS(norm_data, mask, U, VT, n_latent_factors, regularization_param, n_iterations)\n",
    "  return denormalize(pred_ratings, data_mean, data_std)"
   ]
  },
  {
   "cell_type": "markdown",
   "metadata": {
    "id": "B4Z1G3wBN3tx"
   },
   "source": [
    "# Setup baseline model parameters"
   ]
  },
  {
   "cell_type": "markdown",
   "metadata": {
    "id": "JavV6DBXd88N"
   },
   "source": [
    "## With parameter tuning"
   ]
  },
  {
   "cell_type": "markdown",
   "metadata": {
    "id": "Skd9EIBeeECS"
   },
   "source": [
    "We tune the parameters of the baseline model using the grid search method over pairs of values for the number of latent factors used in SVD and ALS, and the regularization parameter used in ALS."
   ]
  },
  {
   "cell_type": "markdown",
   "metadata": {
    "id": "PeTVL-t8eHbZ"
   },
   "source": [
    "Split the data into train and test subsets: "
   ]
  },
  {
   "cell_type": "code",
   "execution_count": 5,
   "metadata": {
    "id": "AtLE_TyzeGxj"
   },
   "outputs": [],
   "source": [
    "users, items, preds = parse_csv('../data/data_train.csv')\n",
    "# determine a random test set for the parameter tuning\n",
    "train_users, test_users, train_items, test_items, train_preds, test_preds = \\\n",
    "  train_test_split(users, items, preds, test_size=0.1, random_state=42)\n",
    "# construct ratings and masks for train and test sets\n",
    "train_ratings, train_mask = construct_ratings_matrix(\n",
    "    train_users, train_items, train_preds, total_num_users, total_num_movies\n",
    ")\n",
    "test_ratings, test_mask = construct_ratings_matrix(\n",
    "    test_users, test_items, test_preds, total_num_users, total_num_movies\n",
    ")"
   ]
  },
  {
   "cell_type": "markdown",
   "metadata": {
    "id": "ApRXRBRYyh9M"
   },
   "source": [
    "Declare ranges of parameters to tune:"
   ]
  },
  {
   "cell_type": "code",
   "execution_count": 6,
   "metadata": {
    "id": "3cU3VzDJylld"
   },
   "outputs": [],
   "source": [
    "reg_param_vals = [0.1, 0.25, 0.5, 0.75]\n",
    "latent_dim_vals = range(2, 17, 2)\n",
    "n_iterations = 20"
   ]
  },
  {
   "cell_type": "markdown",
   "metadata": {
    "id": "LP9Ftmv0yn21"
   },
   "source": [
    "Run a grid search algorithm to check the RMSE score on the validation subset given a parameter set:"
   ]
  },
  {
   "cell_type": "code",
   "execution_count": null,
   "metadata": {
    "id": "W1fcMusceP66"
   },
   "outputs": [
    {
     "data": {
      "application/vnd.jupyter.widget-view+json": {
       "model_id": "723fb8735a634a6e82f2e9c47c18a282",
       "version_major": 2,
       "version_minor": 0
      },
      "text/plain": [
       "  0%|          | 0/8 [00:00<?, ?it/s]"
      ]
     },
     "metadata": {},
     "output_type": "display_data"
    },
    {
     "data": {
      "application/vnd.jupyter.widget-view+json": {
       "model_id": "d04b5097c38748e2ba18d1b7f9e5d7cf",
       "version_major": 2,
       "version_minor": 0
      },
      "text/plain": [
       "  0%|          | 0/220000 [00:00<?, ?it/s]"
      ]
     },
     "metadata": {},
     "output_type": "display_data"
    }
   ],
   "source": [
    "results: List[Tuple[float, int, float, float]] = list()\n",
    "best_val_rmse = None\n",
    "with tqdm(total=len(reg_param_vals) * len(latent_dim_vals)) as pbar:\n",
    "  for i, reg in enumerate(reg_param_vals):\n",
    "    for j, latent_dim in enumerate(latent_dim_vals):\n",
    "      # compute predicted ratings with parameter pair\n",
    "      pred_ratings = baseline(train_ratings, train_mask, latent_dim, reg, n_iterations)\n",
    "      # compute and report RMSE train and test scores\n",
    "      train_rmse = RMSE(pred_ratings, train_ratings, train_mask)\n",
    "      test_rmse = RMSE(pred_ratings, test_ratings, test_mask)\n",
    "      print(f\"Regularizing parameter: {reg:.1f}, \" \\\n",
    "            f\"number of latent factors: {latent_dim}, \" \\\n",
    "            f\"train RMSE score: {train_rmse:.4f}, \" \\\n",
    "            f\"test RMSE score: {test_rmse:.4f}\")\n",
    "      # save RMSE scores in table\n",
    "      results.append((reg, latent_dim, train_rmse, test_rmse))\n",
    "\n",
    "      best_val_rmse = test_rmse if (best_val_rmse is None or test_rmse < best_val_rmse) else best_val_rmse\n",
    "      pbar.update(1)\n",
    "      pbar.set_description(f\"(regularization param: {reg:.2f}, latent dim: {latent_dim}): minimal RMSE score on validation set is {best_val_rmse:.4f}\")\n"
   ]
  },
  {
   "cell_type": "markdown",
   "metadata": {
    "id": "dBKAyWAWy2Q8"
   },
   "source": [
    "Save results of the grid search to a .csv file for future reference:"
   ]
  },
  {
   "cell_type": "code",
   "execution_count": null,
   "metadata": {
    "id": "Pmy4xJKky3g4"
   },
   "outputs": [],
   "source": [
    "print(f\"Saving the RMSE scores table to file...\")\n",
    "results_df = pd.DataFrame({\n",
    "    \"Regularization parameter\": [reg_param for reg_param, _, _, _ in results],\n",
    "    \"Number of latent factors\": [n_latent_factors for _, n_latent_factors, _, _ in results],\n",
    "    \"fit RMSE\": [fit_rmse for _, _, fit_rmse, _ in results],\n",
    "    \"validation RMSE\": [val_rmse for _, _, _, val_rmse in results]\n",
    "})\n",
    "results_df.to_csv(f\"../results/baseline_param_tuning_results_reg.csv\", index=False)\n",
    "print(f\"Done!\")\n",
    "print(results_df)"
   ]
  },
  {
   "cell_type": "markdown",
   "metadata": {
    "id": "hv4duK_ey9gG"
   },
   "source": [
    "Extract the optimal parameters:"
   ]
  },
  {
   "cell_type": "code",
   "execution_count": null,
   "metadata": {
    "id": "TlRZ5jAsy91o"
   },
   "outputs": [],
   "source": [
    "regularization_param, n_latent_factors, _, min_val_rmse = min(results, key=(lambda t: t[3]))\n",
    "print(f\"The optimal regularization parameter is {regularization_param:.2f}\")\n",
    "print(f\"The optimal number of latent factors is {n_latent_factors}\")\n",
    "print(f\"The optimal validation RMSE is {min_val_rmse:.4f}\")"
   ]
  },
  {
   "cell_type": "markdown",
   "metadata": {
    "id": "wyQ_tyKfeEp1"
   },
   "source": [
    "## Hardcoded optimal parameters (skip parameter tuning)"
   ]
  },
  {
   "cell_type": "markdown",
   "metadata": {
    "id": "bHyxckHDik0B"
   },
   "source": [
    "Declare baseline parameters found after the parameter tuning algorithm:"
   ]
  },
  {
   "cell_type": "code",
   "execution_count": null,
   "metadata": {
    "id": "W7jYRVsEiUix"
   },
   "outputs": [],
   "source": [
    "# n_latent_factors = 3\n",
    "# regularization_param = 0.1\n",
    "# n_iterations = 20"
   ]
  },
  {
   "cell_type": "markdown",
   "metadata": {
    "id": "1WN4249fS5yr"
   },
   "source": [
    "## With original parameters"
   ]
  },
  {
   "cell_type": "markdown",
   "metadata": {
    "id": "HY6KsWZj9Pqm"
   },
   "source": [
    "Declare baseline parameters used tp set the Kaggle competition baseline score:"
   ]
  },
  {
   "cell_type": "code",
   "execution_count": null,
   "metadata": {
    "id": "X6PF6jioXstU"
   },
   "outputs": [],
   "source": [
    "n_latent_factors = 3\n",
    "regularization_param = 0.1\n",
    "n_iterations = 20"
   ]
  },
  {
   "cell_type": "markdown",
   "metadata": {
    "id": "lsqr8_Wmzuc4"
   },
   "source": [
    "# Run baseline model of full dataset"
   ]
  },
  {
   "cell_type": "code",
   "execution_count": null,
   "metadata": {
    "id": "tVllg-N8zyiB"
   },
   "outputs": [],
   "source": [
    "users, items, preds = parse_csv('../data/data_train.csv')\n",
    "ratings, mask = construct_ratings_matrix(users, items, preds, total_num_users, total_num_movies)\n",
    "pred_ratings = baseline(ratings, mask, n_latent_factors, regularization_param, n_iterations)"
   ]
  },
  {
   "cell_type": "markdown",
   "metadata": {
    "id": "oI6Me2qi4mc7"
   },
   "source": [
    "# Create submission file"
   ]
  },
  {
   "cell_type": "code",
   "execution_count": null,
   "metadata": {
    "id": "v3eDJ2Kz2LvQ"
   },
   "outputs": [],
   "source": [
    "pred_users, pred_items, _ = parse_csv('../data/sampleSubmission.csv')\n",
    "df = pd.DataFrame({\n",
    "    \"Id\": [f\"r{r + 1}_c{c + 1}\" for r, c in zip(pred_users, pred_items)],\n",
    "    \"Prediction\": [pred_ratings[r, c] for r, c in zip(pred_users, pred_items)]\n",
    "})\n",
    "df.to_csv(f\"../results/baseline_reg-{regularization_param:.2f}_k-{n_latent_factors}_iters-{n_iterations}_submission.csv\", index=False)"
   ]
  }
 ],
 "metadata": {
  "colab": {
   "collapsed_sections": [],
   "name": "Baseline.ipynb",
   "private_outputs": true,
   "provenance": [],
   "toc_visible": true
  },
  "gpuClass": "standard",
  "kernelspec": {
   "display_name": "Python 3",
   "language": "python",
   "name": "python3"
  },
  "language_info": {
   "codemirror_mode": {
    "name": "ipython",
    "version": 3
   },
   "file_extension": ".py",
   "mimetype": "text/x-python",
   "name": "python",
   "nbconvert_exporter": "python",
   "pygments_lexer": "ipython3",
   "version": "3.6.13"
  }
 },
 "nbformat": 4,
 "nbformat_minor": 1
}
