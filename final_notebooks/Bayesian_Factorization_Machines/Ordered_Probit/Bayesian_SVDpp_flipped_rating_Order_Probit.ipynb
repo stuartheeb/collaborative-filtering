{
 "cells": [
  {
   "cell_type": "markdown",
   "id": "5b319f75",
   "metadata": {},
   "source": [
    "## Installs"
   ]
  },
  {
   "cell_type": "code",
   "execution_count": null,
   "id": "d5737192",
   "metadata": {},
   "outputs": [],
   "source": [
    "#Install package Bayesian Factorization Machine\n",
    "!pip install myfm"
   ]
  },
  {
   "cell_type": "markdown",
   "id": "8e83dc77",
   "metadata": {},
   "source": [
    "## Imports"
   ]
  },
  {
   "cell_type": "code",
   "execution_count": 1,
   "id": "fcbe7469",
   "metadata": {},
   "outputs": [],
   "source": [
    "# To store the data\n",
    "import pandas as pd\n",
    "\n",
    "# To do linear algebra\n",
    "import numpy as np\n",
    "\n",
    "# To apply Factorization Machines\n",
    "import myfm\n",
    "from myfm import RelationBlock\n",
    "from myfm.utils.encoders import(DataFrameEncoder,MultipleValuesToSparseEncoder,CategoryValueToSparseEncoder)\n",
    "\n",
    "# To do train-test split for evaluation\n",
    "from sklearn.model_selection import train_test_split"
   ]
  },
  {
   "cell_type": "markdown",
   "id": "9841b47a",
   "metadata": {},
   "source": [
    "## Download Data"
   ]
  },
  {
   "cell_type": "code",
   "execution_count": null,
   "id": "0e25871a",
   "metadata": {},
   "outputs": [],
   "source": [
    "!pip install kaggle\n",
    "\n",
    "!mkdir ~/.kaggle\n",
    "\n",
    "import json\n",
    "\n",
    "kaggle_username = \"yuvalnis\" #@param {type:\"string\"}\n",
    "kaggle_api_key = \"1800d5a286834f0416c338c7bd7f6dee\" #@param {type:\"string\"}\n",
    "\n",
    "assert len(kaggle_username) > 0 and len(kaggle_api_key) > 0\n",
    "\n",
    "api_token = {\"username\": kaggle_username,\"key\": kaggle_api_key}\n",
    "\n",
    "with open('kaggle.json', 'w') as file:\n",
    "    json.dump(api_token, file)\n",
    "\n",
    "!mv kaggle.json ~/.kaggle/kaggle.json\n",
    "\n",
    "!chmod 600 ~/.kaggle/kaggle.json\n",
    "!kaggle competitions download -c cil-collaborative-filtering-2022\n",
    "\n",
    "!unzip -n cil-collaborative-filtering-2022.zip"
   ]
  },
  {
   "cell_type": "markdown",
   "id": "ab14d436",
   "metadata": {},
   "source": [
    "## Load Data"
   ]
  },
  {
   "cell_type": "code",
   "execution_count": 2,
   "id": "3563ca75",
   "metadata": {},
   "outputs": [],
   "source": [
    "#Function to Extract users, movies and ratings from raw data\n",
    "def extract_users_items_predictions(data_pd):\n",
    "    users, movies = \\\n",
    "        [np.squeeze(arr) for arr in np.split(data_pd.Id.str.extract('r(\\d+)_c(\\d+)').values.astype(int) - 1, 2, axis=-1)]\n",
    "    predictions = data_pd.Prediction.values\n",
    "    return users, movies, predictions\n",
    "\n",
    "#Load raw data\n",
    "data_pd = pd.read_csv('data_train.csv')\n",
    "\n",
    "#Do Train-Test Split\n",
    "train, val = train_test_split(data_pd, test_size=0.1,random_state=42)\n",
    "\n",
    "#Extract users, movies and ratings from raw data\n",
    "total_users, total_movies, total_pred = extract_users_items_predictions(data_pd)\n",
    "train_users, train_movies, train_pred = extract_users_items_predictions(train)\n",
    "val_users, val_movies, val_pred = extract_users_items_predictions(val)\n",
    "\n",
    "#Store total data\n",
    "ratings_dict_total = {'userID': total_users,'movieID': total_movies,'rating': total_pred}\n",
    "df_total = pd.DataFrame(ratings_dict_total)\n",
    "\n",
    "#Store train data\n",
    "ratings_dict_train = {'userID': train_users,'movieID': train_movies,'rating': train_pred}\n",
    "df_train = pd.DataFrame(ratings_dict_train)\n",
    "\n",
    "#Store validation data\n",
    "ratings_dict_test = {'userID': val_users,'movieID': val_movies,'rating': val_pred}\n",
    "df_test = pd.DataFrame(ratings_dict_test)"
   ]
  },
  {
   "cell_type": "markdown",
   "id": "07bad323",
   "metadata": {},
   "source": [
    "## Get implicit user/movie Features\n",
    "- code is based on https://github.com/tohtsky/myFM/blob/main/examples/ml-100k-extended.ipynb"
   ]
  },
  {
   "cell_type": "code",
   "execution_count": 3,
   "id": "8d81506d",
   "metadata": {},
   "outputs": [],
   "source": [
    "#Utility function to convert list to str\n",
    "def string_agg(int_list) -> str:\n",
    "    return ','.join([str(y) for y in int_list])\n",
    "\n",
    "#Get & Store Implicit Features\n",
    "user_f = pd.DataFrame(np.arange(10000),columns=['userID'])\n",
    "user_f['user_implicit_features'] = df_train.groupby('userID').movieID.agg(string_agg).reindex(user_f.index).fillna('')\n",
    "user_f['user_rating'] = df_train.groupby('userID').rating.agg(string_agg).reindex(user_f.index).fillna('')\n",
    "movie_f = pd.DataFrame(np.arange(1000),columns=['movieID'])\n",
    "movie_f['movie_implicit_features'] = df_train.groupby('movieID').userID.agg(string_agg).reindex(movie_f.index).fillna('')\n",
    "movie_f['movie_rating'] = df_train.groupby('movieID').rating.agg(string_agg).reindex(movie_f.index).fillna('')"
   ]
  },
  {
   "cell_type": "markdown",
   "id": "d25e47d8",
   "metadata": {},
   "source": [
    "# Transform Data in myFM Format"
   ]
  },
  {
   "cell_type": "code",
   "execution_count": 4,
   "id": "b39cee5a",
   "metadata": {},
   "outputs": [],
   "source": [
    "#Create User Encoder\n",
    "user_encoder = DataFrameEncoder().add_column(\n",
    "    'userID', CategoryValueToSparseEncoder(user_f.userID)\n",
    "    )\n",
    "\n",
    "user_encoder.add_column(\n",
    "        'user_implicit_features',\n",
    "        MultipleValuesToSparseEncoder(user_f.user_implicit_features, normalize=True)\n",
    "    )\n",
    "\n",
    "user_encoder.add_column(\n",
    "        'user_rating',\n",
    "        MultipleValuesToSparseEncoder(user_f.user_rating, normalize=True)\n",
    "    )\n",
    "\n",
    "\n",
    "#Create Movie Encoder\n",
    "movie_encoder = DataFrameEncoder().add_column(\n",
    "    'movieID', CategoryValueToSparseEncoder(movie_f.movieID)\n",
    "    )\n",
    "movie_encoder.add_column(\n",
    "        'movie_implicit_features',\n",
    "        MultipleValuesToSparseEncoder(movie_f.movie_implicit_features, normalize=True)\n",
    "    )\n",
    "movie_encoder.add_column(\n",
    "        'movie_rating',\n",
    "        MultipleValuesToSparseEncoder(movie_f.movie_rating, normalize=True)\n",
    "    )\n",
    "\n",
    "\n",
    "def augment_user_id(user_ids):\n",
    "    return user_encoder.encode_df(\n",
    "        user_f.reindex(user_ids).reset_index()\n",
    "    )\n",
    "\n",
    "def augment_movie_id(movie_ids):\n",
    "    return movie_encoder.encode_df(\n",
    "        movie_f.reindex(movie_ids).reset_index()\n",
    "    )\n",
    "\n",
    "\n",
    "#Create Train/Test Blocks\n",
    "train_blocks = []\n",
    "test_blocks = []\n",
    "for source, target in [(df_train, train_blocks),(df_test, test_blocks)]:\n",
    "    unique_users, user_map = np.unique(source.userID, return_inverse=True)\n",
    "    target.append(\n",
    "        RelationBlock(user_map, augment_user_id(unique_users))\n",
    "    )\n",
    "    unique_movies, movie_map = np.unique(source.movieID, return_inverse=True)\n",
    "    target.append(\n",
    "        RelationBlock(movie_map, augment_movie_id(unique_movies))\n",
    "    )"
   ]
  },
  {
   "cell_type": "markdown",
   "id": "eaf7e813",
   "metadata": {},
   "source": [
    "## Evaluation and Parameter Tuning"
   ]
  },
  {
   "cell_type": "code",
   "execution_count": 5,
   "id": "fc61da83",
   "metadata": {},
   "outputs": [
    {
     "name": "stderr",
     "output_type": "stream",
     "text": [
      "w0 = -0.13, cutpoint = ['-2.578', '-1.837', '-0.868', '0.009'] : 100%|█| 100/100\n"
     ]
    },
    {
     "name": "stdout",
     "output_type": "stream",
     "text": [
      "0.9709255431942436\n"
     ]
    },
    {
     "name": "stderr",
     "output_type": "stream",
     "text": [
      "w0 = -0.09, cutpoint = ['-2.605', '-1.865', '-0.897', '-0.019'] : 100%|█| 200/20\n"
     ]
    },
    {
     "name": "stdout",
     "output_type": "stream",
     "text": [
      "0.970385255381208\n"
     ]
    },
    {
     "name": "stderr",
     "output_type": "stream",
     "text": [
      "w0 = -0.09, cutpoint = ['-2.653', '-1.915', '-0.945', '-0.067'] : 100%|█| 300/30\n"
     ]
    },
    {
     "name": "stdout",
     "output_type": "stream",
     "text": [
      "0.970202443866509\n"
     ]
    },
    {
     "name": "stderr",
     "output_type": "stream",
     "text": [
      "w0 = -0.07, cutpoint = ['-2.665', '-1.926', '-0.958', '-0.082'] : 100%|█| 400/40\n"
     ]
    },
    {
     "name": "stdout",
     "output_type": "stream",
     "text": [
      "0.9700261975878915\n"
     ]
    },
    {
     "name": "stderr",
     "output_type": "stream",
     "text": [
      "w0 = -0.08, cutpoint = ['-2.684', '-1.936', '-0.968', '-0.090'] : 100%|█| 500/50\n"
     ]
    },
    {
     "name": "stdout",
     "output_type": "stream",
     "text": [
      "0.9699207241404016\n"
     ]
    },
    {
     "name": "stderr",
     "output_type": "stream",
     "text": [
      "w0 = -0.03, cutpoint = ['-2.404', '-1.654', '-0.682', '0.201'] : 100%|█| 100/100\n",
      "w0 = -0.08, cutpoint = ['-2.445', '-1.698', '-0.723', '0.159'] : 100%|█| 200/200\n"
     ]
    },
    {
     "name": "stdout",
     "output_type": "stream",
     "text": [
      "0.969453234942143\n"
     ]
    },
    {
     "name": "stderr",
     "output_type": "stream",
     "text": [
      "w0 = -0.07, cutpoint = ['-2.483', '-1.739', '-0.762', '0.117'] : 100%|█| 300/300\n"
     ]
    },
    {
     "name": "stdout",
     "output_type": "stream",
     "text": [
      "0.9691976371341182\n"
     ]
    },
    {
     "name": "stderr",
     "output_type": "stream",
     "text": [
      "w0 = -0.05, cutpoint = ['-2.511', '-1.767', '-0.793', '0.090'] : 100%|█| 400/400\n"
     ]
    },
    {
     "name": "stdout",
     "output_type": "stream",
     "text": [
      "0.9690981868690504\n"
     ]
    },
    {
     "name": "stderr",
     "output_type": "stream",
     "text": [
      "w0 = -0.05, cutpoint = ['-2.537', '-1.791', '-0.817', '0.067'] : 100%|█| 500/500\n"
     ]
    },
    {
     "name": "stdout",
     "output_type": "stream",
     "text": [
      "0.9690871527710165\n"
     ]
    },
    {
     "name": "stderr",
     "output_type": "stream",
     "text": [
      "w0 = -0.06, cutpoint = ['-2.245', '-1.496', '-0.515', '0.374'] : 100%|█| 100/100\n",
      "w0 = -0.05, cutpoint = ['-2.272', '-1.520', '-0.540', '0.347'] : 100%|█| 200/200\n",
      "w0 = -0.02, cutpoint = ['-2.311', '-1.564', '-0.584', '0.302'] : 100%|█| 300/300\n",
      "w0 = -0.04, cutpoint = ['-2.340', '-1.593', '-0.611', '0.274'] : 100%|█| 400/400\n"
     ]
    },
    {
     "name": "stdout",
     "output_type": "stream",
     "text": [
      "0.969014609144093\n"
     ]
    },
    {
     "name": "stderr",
     "output_type": "stream",
     "text": [
      "w0 = -0.04, cutpoint = ['-2.354', '-1.604', '-0.623', '0.263'] : 100%|█| 500/500\n"
     ]
    },
    {
     "name": "stdout",
     "output_type": "stream",
     "text": [
      "0.9688954999851386\n"
     ]
    },
    {
     "name": "stderr",
     "output_type": "stream",
     "text": [
      "w0 = 0.13, cutpoint = ['-2.153', '-1.404', '-0.419', '0.471'] : 100%|█| 100/100 \n",
      "w0 = 0.14, cutpoint = ['-2.231', '-1.474', '-0.486', '0.406'] : 100%|█| 200/200 \n",
      "w0 = 0.15, cutpoint = ['-2.275', '-1.518', '-0.530', '0.361'] : 100%|█| 300/300 \n",
      "w0 = 0.14, cutpoint = ['-2.313', '-1.555', '-0.569', '0.321'] : 100%|█| 400/400 \n"
     ]
    },
    {
     "name": "stdout",
     "output_type": "stream",
     "text": [
      "0.9687395403658107\n"
     ]
    },
    {
     "name": "stderr",
     "output_type": "stream",
     "text": [
      "w0 = 0.15, cutpoint = ['-2.339', '-1.583', '-0.596', '0.294'] : 100%|█| 500/500 \n"
     ]
    },
    {
     "name": "stdout",
     "output_type": "stream",
     "text": [
      "0.9685790059989303\n"
     ]
    }
   ],
   "source": [
    "# Return root mean square error metric\n",
    "def RMSE(x: np.ndarray, y: np.ndarray) -> float:\n",
    "    return np.sqrt(np.average((x - y) ** 2))\n",
    "\n",
    "# Function to do parameter tuning\n",
    "def validation(user_encoder,movie_encoder,df_train,train_blocks,test_blocks,val_predictions):\n",
    "    group_shapes = user_encoder.encoder_shapes + movie_encoder.encoder_shapes\n",
    "\n",
    "    rank = [10,12,14,16]\n",
    "    n_iter = [100,200,300,400,500]\n",
    "    n_samples = [95,195,295,395,495]\n",
    "\n",
    "    best_rmse = 1\n",
    "    best_r = 0\n",
    "    best_n = 0\n",
    "    best_s = 0\n",
    "\n",
    "    for r in rank:\n",
    "        for i in range(len(n_iter)):\n",
    "            fm_probit = myfm.MyFMOrderedProbit(rank=r, random_seed=1234)\n",
    "            fm_probit.fit(None, df_train.rating.values - 1, X_rel=train_blocks,\n",
    "                          group_shapes=group_shapes,n_iter=n_iter[i], n_kept_samples=n_samples[i])\n",
    "            test_prediction_ordered_prob = fm_probit.predict_proba(None, test_blocks)\n",
    "            test_prediction_ordered_mean = 1 + test_prediction_ordered_prob.dot(np.arange(5)) # class 0 => rating 1 shift\n",
    "            rmse = RMSE(val_predictions,test_prediction_ordered_mean)\n",
    "            if rmse < best_rmse:\n",
    "                best_rmse = rmse\n",
    "                best_r = r\n",
    "                best_n = n_iter[i]\n",
    "                best_s = n_samples[i]\n",
    "                print(best_rmse)\n",
    "                \n",
    "    return best_rmse,best_r,best_n,best_s\n",
    "\n",
    "best_rmse,best_r,best_n,best_s = validation(user_encoder,movie_encoder,df_train,train_blocks,test_blocks,val_pred)"
   ]
  },
  {
   "cell_type": "code",
   "execution_count": 6,
   "id": "50af65d6",
   "metadata": {},
   "outputs": [
    {
     "name": "stdout",
     "output_type": "stream",
     "text": [
      "Validation RMSE using model is 0.9685790059989303\n"
     ]
    }
   ],
   "source": [
    "print(\"Validation RMSE using model is \" + str(best_rmse))"
   ]
  },
  {
   "cell_type": "markdown",
   "id": "ac285dc6",
   "metadata": {},
   "source": [
    "# Generate Features & Train the model on Total Data"
   ]
  },
  {
   "cell_type": "code",
   "execution_count": 7,
   "id": "eb901a4c",
   "metadata": {},
   "outputs": [
    {
     "name": "stderr",
     "output_type": "stream",
     "text": [
      "w0 = 0.18, cutpoint = ['-2.262', '-1.509', '-0.524', '0.366'] : 100%|█| 500/500 \n"
     ]
    },
    {
     "data": {
      "text/plain": [
       "<myfm.gibbs.MyFMOrderedProbit at 0x1268bb9a0>"
      ]
     },
     "execution_count": 7,
     "metadata": {},
     "output_type": "execute_result"
    }
   ],
   "source": [
    "#Get & Store Implicit Features on Total Data\n",
    "user_f = pd.DataFrame(np.arange(10000),columns=['userID'])\n",
    "user_f['user_implicit_features'] = df_total.groupby('userID').movieID.agg(string_agg).reindex(user_f.index).fillna('')\n",
    "user_f['user_rating'] = df_total.groupby('userID').rating.agg(string_agg).reindex(user_f.index).fillna('')\n",
    "movie_f = pd.DataFrame(np.arange(1000),columns=['movieID'])\n",
    "movie_f['movie_implicit_features'] = df_total.groupby('movieID').userID.agg(string_agg).reindex(movie_f.index).fillna('')\n",
    "movie_f['movie_rating'] = df_total.groupby('movieID').rating.agg(string_agg).reindex(movie_f.index).fillna('')\n",
    "\n",
    "#Create User Encoder for total data\n",
    "user_encoder = DataFrameEncoder().add_column(\n",
    "    'userID', CategoryValueToSparseEncoder(user_f.userID)\n",
    "    )\n",
    "\n",
    "user_encoder.add_column(\n",
    "        'user_implicit_features',\n",
    "        MultipleValuesToSparseEncoder(user_f.user_implicit_features, normalize=True)\n",
    "    )\n",
    "\n",
    "user_encoder.add_column(\n",
    "        'user_rating',\n",
    "        MultipleValuesToSparseEncoder(user_f.user_rating, normalize=True)\n",
    "    )\n",
    "\n",
    "#Create Movie Encoder for total data\n",
    "movie_encoder = DataFrameEncoder().add_column(\n",
    "    'movieID', CategoryValueToSparseEncoder(movie_f.movieID)\n",
    "    )\n",
    "movie_encoder.add_column(\n",
    "        'movie_implicit_features',\n",
    "        MultipleValuesToSparseEncoder(movie_f.movie_implicit_features, normalize=True)\n",
    "    )\n",
    "movie_encoder.add_column(\n",
    "        'movie_rating',\n",
    "        MultipleValuesToSparseEncoder(movie_f.movie_rating, normalize=True)\n",
    "    )\n",
    "\n",
    "#Generate Train Blocks on total data\n",
    "group_shapes = user_encoder.encoder_shapes + movie_encoder.encoder_shapes\n",
    "\n",
    "total_train_blocks = []\n",
    "for source, target in [(df_total, total_train_blocks)]:\n",
    "    unique_users, user_map = np.unique(source.userID, return_inverse=True)\n",
    "    target.append(\n",
    "        RelationBlock(user_map, augment_user_id(unique_users))\n",
    "    )\n",
    "    unique_movies, movie_map = np.unique(source.movieID, return_inverse=True)\n",
    "    target.append(\n",
    "        RelationBlock(movie_map, augment_movie_id(unique_movies))\n",
    "    )\n",
    "\n",
    "\n",
    "#Train the model\n",
    "#optimal params: best_r = 16, best_n=500, best_s=495\n",
    "fm_probit = myfm.MyFMOrderedProbit(rank=best_r, random_seed=1234)\n",
    "fm_probit.fit(None, df_total.rating.values - 1, X_rel=total_train_blocks,\n",
    "                          group_shapes=group_shapes,n_iter=best_n, n_kept_samples=best_s)"
   ]
  },
  {
   "cell_type": "markdown",
   "id": "1f68a8d2",
   "metadata": {},
   "source": [
    "## Generate predictions for Submission"
   ]
  },
  {
   "cell_type": "code",
   "execution_count": 8,
   "id": "3e8db3d3",
   "metadata": {},
   "outputs": [],
   "source": [
    "#Load Submission File\n",
    "sub_pd = pd.read_csv('sampleSubmission.csv')\n",
    "sub_users, sub_movies, sub_pred = extract_users_items_predictions(sub_pd)\n",
    "sub_test_ratings_dict = {'userID': sub_users,'movieID': sub_movies,'rating': sub_pred}\n",
    "sub_df = pd.DataFrame(sub_test_ratings_dict)\n",
    "\n",
    "#Generate Submission Test Blocks\n",
    "sub_test_blocks = []\n",
    "for source, target in [(sub_df, sub_test_blocks)]:\n",
    "    unique_users, user_map = np.unique(source.userID, return_inverse=True)\n",
    "    target.append(\n",
    "        RelationBlock(user_map, augment_user_id(unique_users))\n",
    "    )\n",
    "    unique_movies, movie_map = np.unique(source.movieID, return_inverse=True)\n",
    "    target.append(\n",
    "        RelationBlock(movie_map, augment_movie_id(unique_movies))\n",
    "    )\n",
    "\n",
    "#Generate Predictions and create submission csv    \n",
    "test_prediction_ordered_prob = fm_probit.predict_proba(None, sub_test_blocks)\n",
    "test_prediction_ordered_mean = 1 + test_prediction_ordered_prob.dot(np.arange(5))\n",
    "sub_pd['Prediction'] = test_prediction_ordered_mean\n",
    "sub_pd.set_index(\"Id\", inplace = True)\n",
    "sub_pd.to_csv(\"submission_bayesian_svdpp_flipped_rating_ordered_probit.csv\")"
   ]
  },
  {
   "cell_type": "code",
   "execution_count": null,
   "id": "627cf8cc",
   "metadata": {},
   "outputs": [],
   "source": []
  }
 ],
 "metadata": {
  "kernelspec": {
   "display_name": "Python 3 (ipykernel)",
   "language": "python",
   "name": "python3"
  },
  "language_info": {
   "codemirror_mode": {
    "name": "ipython",
    "version": 3
   },
   "file_extension": ".py",
   "mimetype": "text/x-python",
   "name": "python",
   "nbconvert_exporter": "python",
   "pygments_lexer": "ipython3",
   "version": "3.9.7"
  }
 },
 "nbformat": 4,
 "nbformat_minor": 5
}
