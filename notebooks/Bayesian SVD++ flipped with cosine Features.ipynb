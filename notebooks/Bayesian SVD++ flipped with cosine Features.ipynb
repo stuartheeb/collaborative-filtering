{
 "cells": [
  {
   "cell_type": "markdown",
   "id": "ba06e978",
   "metadata": {},
   "source": [
    "## Installs"
   ]
  },
  {
   "cell_type": "code",
   "execution_count": 1,
   "id": "91551ba7",
   "metadata": {},
   "outputs": [
    {
     "name": "stdout",
     "output_type": "stream",
     "text": [
      "Requirement already satisfied: surprise in /Users/samyakjain/miniforge3/lib/python3.9/site-packages (0.1)\n",
      "Requirement already satisfied: scikit-surprise in /Users/samyakjain/miniforge3/lib/python3.9/site-packages (from surprise) (1.1.1)\n",
      "Requirement already satisfied: joblib>=0.11 in /Users/samyakjain/miniforge3/lib/python3.9/site-packages (from scikit-surprise->surprise) (1.1.0)\n",
      "Requirement already satisfied: numpy>=1.11.2 in /Users/samyakjain/miniforge3/lib/python3.9/site-packages (from scikit-surprise->surprise) (1.22.3)\n",
      "Requirement already satisfied: scipy>=1.0.0 in /Users/samyakjain/miniforge3/lib/python3.9/site-packages (from scikit-surprise->surprise) (1.7.1)\n",
      "Requirement already satisfied: six>=1.10.0 in /Users/samyakjain/miniforge3/lib/python3.9/site-packages (from scikit-surprise->surprise) (1.15.0)\n",
      "Requirement already satisfied: myfm in /Users/samyakjain/miniforge3/lib/python3.9/site-packages (0.3.5)\n",
      "Requirement already satisfied: scipy>=1.0 in /Users/samyakjain/miniforge3/lib/python3.9/site-packages (from myfm) (1.7.1)\n",
      "Requirement already satisfied: tqdm>=4 in /Users/samyakjain/miniforge3/lib/python3.9/site-packages (from myfm) (4.62.3)\n",
      "Requirement already satisfied: pandas>=1.0.0 in /Users/samyakjain/miniforge3/lib/python3.9/site-packages (from myfm) (1.3.5)\n",
      "Requirement already satisfied: numpy>=1.11 in /Users/samyakjain/miniforge3/lib/python3.9/site-packages (from myfm) (1.22.3)\n",
      "Requirement already satisfied: typing-extensions>=4.0.0 in /Users/samyakjain/miniforge3/lib/python3.9/site-packages (from myfm) (4.3.0)\n",
      "Requirement already satisfied: pytz>=2017.3 in /Users/samyakjain/miniforge3/lib/python3.9/site-packages (from pandas>=1.0.0->myfm) (2022.1)\n",
      "Requirement already satisfied: python-dateutil>=2.7.3 in /Users/samyakjain/miniforge3/lib/python3.9/site-packages (from pandas>=1.0.0->myfm) (2.8.2)\n",
      "Requirement already satisfied: six>=1.5 in /Users/samyakjain/miniforge3/lib/python3.9/site-packages (from python-dateutil>=2.7.3->pandas>=1.0.0->myfm) (1.15.0)\n"
     ]
    }
   ],
   "source": [
    "#Install packages to apply SVD and Bayesian Factorization Machine\n",
    "!pip install surprise\n",
    "\n",
    "!pip install myfm"
   ]
  },
  {
   "cell_type": "markdown",
   "id": "d34bc4d9",
   "metadata": {},
   "source": [
    "## Imports"
   ]
  },
  {
   "cell_type": "code",
   "execution_count": 8,
   "id": "b7e7d7fc",
   "metadata": {},
   "outputs": [],
   "source": [
    "# To store the data\n",
    "import pandas as pd\n",
    "\n",
    "# To do linear algebra\n",
    "import numpy as np\n",
    "\n",
    "# To apply SVD\n",
    "import surprise\n",
    "\n",
    "# To apply Factorization Machines\n",
    "import myfm\n",
    "from myfm import RelationBlock\n",
    "from myfm.utils.encoders import(DataFrameEncoder,MultipleValuesToSparseEncoder,CategoryValueToSparseEncoder)\n",
    "\n",
    "# To do train-test split for evaluation\n",
    "from sklearn.model_selection import train_test_split"
   ]
  },
  {
   "cell_type": "markdown",
   "id": "0163c1e7",
   "metadata": {},
   "source": [
    "## Load Data"
   ]
  },
  {
   "cell_type": "code",
   "execution_count": 3,
   "id": "60867f77",
   "metadata": {},
   "outputs": [],
   "source": [
    "#Function to Extract users, movies and ratings from raw data\n",
    "def extract_users_items_predictions(data_pd):\n",
    "    users, movies = \\\n",
    "        [np.squeeze(arr) for arr in np.split(data_pd.Id.str.extract('r(\\d+)_c(\\d+)').values.astype(int) - 1, 2, axis=-1)]\n",
    "    predictions = data_pd.Prediction.values\n",
    "    return users, movies, predictions\n",
    "\n",
    "#Load raw data\n",
    "data_pd = pd.read_csv('data/data_train.csv')\n",
    "\n",
    "#Do Train-Test Split\n",
    "train, val = train_test_split(data_pd, test_size=0.1,random_state=42)\n",
    "\n",
    "#Extract users, movies and ratings from raw data\n",
    "total_users, total_movies, total_pred = extract_users_items_predictions(data_pd)\n",
    "train_users, train_movies, train_pred = extract_users_items_predictions(train)\n",
    "val_users, val_movies, val_pred = extract_users_items_predictions(val)\n",
    "\n",
    "#Store total data\n",
    "ratings_dict_total = {'userID': total_users,'movieID': total_movies,'rating': total_pred}\n",
    "df_total = pd.DataFrame(ratings_dict_total)\n",
    "\n",
    "#Store train data\n",
    "ratings_dict_train = {'userID': train_users,'movieID': train_movies,'rating': train_pred}\n",
    "df_train = pd.DataFrame(ratings_dict_train)\n",
    "\n",
    "#Store validation data\n",
    "ratings_dict_test = {'userID': val_users,'movieID': val_movies,'rating': val_pred}\n",
    "df_test = pd.DataFrame(ratings_dict_test)"
   ]
  },
  {
   "cell_type": "markdown",
   "id": "528d7370",
   "metadata": {},
   "source": [
    "## Apply SVD "
   ]
  },
  {
   "cell_type": "code",
   "execution_count": 5,
   "id": "e418df2c",
   "metadata": {},
   "outputs": [],
   "source": [
    "def surprise_svd(df,number_of_users,number_of_movies):\n",
    "    \n",
    "    # Transform Data in Desired Format\n",
    "    reader = surprise.Reader(rating_scale=(0,5.5))\n",
    "    surprise_data = surprise.Dataset.load_from_df(df[['userID', 'movieID', 'rating']], reader=reader)\n",
    "    trainset = surprise_data.build_full_trainset()\n",
    "    \n",
    "    #Apply SVD\n",
    "    algo = surprise.SVD(n_factors=3, n_epochs=50, random_state=1234, biased=False)\n",
    "    algo.fit(trainset)\n",
    "    \n",
    "    #Get User/Movie Factors\n",
    "    U = algo.pu\n",
    "    Q = algo.qi\n",
    "    return U,Q\n",
    "\n",
    "U,Q = surprise_svd(df_train,10000,1000)"
   ]
  },
  {
   "cell_type": "markdown",
   "id": "f46be68a",
   "metadata": {},
   "source": [
    "## Get cosine and implicit user/movie Features"
   ]
  },
  {
   "cell_type": "code",
   "execution_count": 6,
   "id": "6f8156c2",
   "metadata": {},
   "outputs": [],
   "source": [
    "'''Code adapted from https://github.com/tohtsky/myFM/blob/main/examples/ml-100k-extended.ipynb'''\n",
    "\n",
    "#Perform Cosine Similarity\n",
    "def cosine(a,b):\n",
    "    return np.dot(a,b) /(np.linalg.norm(a) * np.linalg.norm(b))\n",
    "\n",
    "#Utility function to convert list to str\n",
    "def string_agg(int_list) -> str:\n",
    "    return ','.join([str(y) for y in int_list])\n",
    "\n",
    "#Generate User Affinity\n",
    "user_dict = {}\n",
    "for i in range(10000):\n",
    "    user_cosine = []\n",
    "    for j in range(1000):\n",
    "        user_cosine.append(cosine(U[i],Q[j])) \n",
    "    user_cosine.sort(reverse=True)\n",
    "    user_dict[i] = string_agg(user_cosine[:100])\n",
    "\n",
    "#Generate Movie Affinity\n",
    "movie_dict = {}\n",
    "for i in range(1000):\n",
    "    movie_cosine = []\n",
    "    for j in range(10000):\n",
    "        movie_cosine.append(cosine(Q[i],U[j]))\n",
    "    movie_cosine.sort(reverse=True)\n",
    "    movie_dict[i] = string_agg(movie_cosine[:100])\n",
    "    \n",
    "#Store the Affinitites\n",
    "user_f = pd.DataFrame.from_dict(user_dict.items())\n",
    "user_f.columns = ['userID', 'user_cosine_f']\n",
    "\n",
    "movie_f = pd.DataFrame.from_dict(movie_dict.items())\n",
    "movie_f.columns = ['movieID', 'movie_cosine_f']\n",
    "\n",
    "#Get & Store Implicit Features\n",
    "user_f['user_implicit_features'] = df_train.groupby('userID').movieID.agg(string_agg).reindex(user_f.index).fillna('')\n",
    "movie_f['movie_implicit_features'] = df_train.groupby('movieID').userID.agg(string_agg).reindex(movie_f.index).fillna('')"
   ]
  },
  {
   "cell_type": "markdown",
   "id": "a9b9b7a9",
   "metadata": {},
   "source": [
    "# Transform Data in myfm Format"
   ]
  },
  {
   "cell_type": "code",
   "execution_count": 10,
   "id": "f1c06d46",
   "metadata": {},
   "outputs": [],
   "source": [
    "#Create User Encoder\n",
    "user_encoder = DataFrameEncoder().add_column(\n",
    "    'userID', CategoryValueToSparseEncoder(user_f.userID)\n",
    "    )\n",
    "\n",
    "user_encoder.add_column(\n",
    "        'user_implicit_features',\n",
    "        MultipleValuesToSparseEncoder(user_f.user_implicit_features, normalize=True)\n",
    "    )\n",
    "\n",
    "user_encoder.add_column(\n",
    "        'user_cosine_f',\n",
    "        MultipleValuesToSparseEncoder(user_f.user_cosine_f, normalize=True)\n",
    "    )\n",
    "\n",
    "#Create Movie Encoder\n",
    "movie_encoder = DataFrameEncoder().add_column(\n",
    "    'movieID', CategoryValueToSparseEncoder(movie_f.movieID)\n",
    "    )\n",
    "movie_encoder.add_column(\n",
    "        'movie_implicit_features',\n",
    "        MultipleValuesToSparseEncoder(movie_f.movie_implicit_features, normalize=True)\n",
    "    )\n",
    "movie_encoder.add_column(\n",
    "        'movie_cosine_f',\n",
    "        MultipleValuesToSparseEncoder(movie_f.movie_cosine_f, normalize=True)\n",
    "    )\n",
    "\n",
    "\n",
    "def augment_user_id(user_ids):\n",
    "    return user_encoder.encode_df(\n",
    "        user_f.reindex(user_ids).reset_index()\n",
    "    )\n",
    "\n",
    "def augment_movie_id(movie_ids):\n",
    "    return movie_encoder.encode_df(\n",
    "        movie_f.reindex(movie_ids).reset_index()\n",
    "    )\n",
    "\n",
    "\n",
    "#Create Train/Test Blocks\n",
    "train_blocks = []\n",
    "test_blocks = []\n",
    "for source, target in [(df_train, train_blocks),(df_test, test_blocks)]:\n",
    "    unique_users, user_map = np.unique(source.userID, return_inverse=True)\n",
    "    target.append(\n",
    "        RelationBlock(user_map, augment_user_id(unique_users))\n",
    "    )\n",
    "    unique_movies, movie_map = np.unique(source.movieID, return_inverse=True)\n",
    "    target.append(\n",
    "        RelationBlock(movie_map, augment_movie_id(unique_movies))\n",
    "    )"
   ]
  },
  {
   "cell_type": "markdown",
   "id": "abdcb64f",
   "metadata": {},
   "source": [
    "## Evaluation and Parameter Tuning"
   ]
  },
  {
   "cell_type": "code",
   "execution_count": null,
   "id": "32de9f1a",
   "metadata": {},
   "outputs": [
    {
     "name": "stderr",
     "output_type": "stream",
     "text": [
      "alpha = 1.11 w0 = 3.62 : 100%|████████████████| 100/100 [01:35<00:00,  1.05it/s]\n"
     ]
    },
    {
     "name": "stdout",
     "output_type": "stream",
     "text": [
      "0.9730970487787145\n"
     ]
    },
    {
     "name": "stderr",
     "output_type": "stream",
     "text": [
      "alpha = 1.12 w0 = 3.59 : 100%|████████████████| 200/200 [03:11<00:00,  1.04it/s]\n"
     ]
    },
    {
     "name": "stdout",
     "output_type": "stream",
     "text": [
      "0.9727125011087001\n"
     ]
    },
    {
     "name": "stderr",
     "output_type": "stream",
     "text": [
      "alpha = 1.11 w0 = 3.57 : 100%|████████████████| 300/300 [04:53<00:00,  1.02it/s]\n"
     ]
    },
    {
     "name": "stdout",
     "output_type": "stream",
     "text": [
      "0.9724496399131504\n"
     ]
    },
    {
     "name": "stderr",
     "output_type": "stream",
     "text": [
      "alpha = 1.11 w0 = 3.57 : 100%|████████████████| 400/400 [06:27<00:00,  1.03it/s]\n"
     ]
    },
    {
     "name": "stdout",
     "output_type": "stream",
     "text": [
      "0.9723171121680038\n"
     ]
    },
    {
     "name": "stderr",
     "output_type": "stream",
     "text": [
      "alpha = 1.11 w0 = 3.59 : 100%|████████████████| 500/500 [08:46<00:00,  1.05s/it]\n"
     ]
    },
    {
     "name": "stdout",
     "output_type": "stream",
     "text": [
      "0.9722562612737108\n"
     ]
    },
    {
     "name": "stderr",
     "output_type": "stream",
     "text": [
      "alpha = 1.13 w0 = 3.67 : 100%|████████████████| 100/100 [02:48<00:00,  1.42s/it]"
     ]
    }
   ],
   "source": [
    "# Return root mean square error metric\n",
    "def RMSE(x: np.ndarray, y: np.ndarray) -> float:\n",
    "    return np.sqrt(np.average((x - y) ** 2))\n",
    "\n",
    "# Function to do parameter tuning\n",
    "def validation(user_encoder,movie_encoder,df_train,train_blocks,test_blocks,val_predictions):\n",
    "    group_shapes = user_encoder.encoder_shapes + movie_encoder.encoder_shapes\n",
    "\n",
    "    rank = [8,10,12,14]\n",
    "    n_iter = [100,200,300,400,500]\n",
    "    n_samples = [95,195,295,395,495]\n",
    "\n",
    "    best_rmse = 1\n",
    "    best_r = 0\n",
    "    best_n = 0\n",
    "    best_s = 0\n",
    "\n",
    "    for r in rank:\n",
    "        for i in range(len(n_iter)):\n",
    "            fm = myfm.MyFMRegressor(rank=r,random_seed=1234)\n",
    "            fm.fit(None, df_train.rating.values, X_rel=train_blocks, \n",
    "                   group_shapes=group_shapes,n_iter=n_iter[i], n_kept_samples=n_samples[i])\n",
    "            test_predictions = fm.predict(None, test_blocks)\n",
    "            rmse = RMSE(val_predictions,test_predictions)\n",
    "            if rmse < best_rmse:\n",
    "                best_rmse = rmse\n",
    "                best_r = r\n",
    "                best_n = n_iter[i]\n",
    "                best_s = n_samples[i]\n",
    "                print(best_rmse)\n",
    "                \n",
    "    return best_rmse,best_r,best_n,best_s\n",
    "\n",
    "best_rmse,best_r,best_n,best_s = validation(user_encoder,movie_encoder,df_train,train_blocks,test_blocks,val_pred)"
   ]
  },
  {
   "cell_type": "markdown",
   "id": "f2248951",
   "metadata": {},
   "source": [
    "# Generate Features & Train the model on Total Data"
   ]
  },
  {
   "cell_type": "code",
   "execution_count": null,
   "id": "022ca98b",
   "metadata": {},
   "outputs": [],
   "source": [
    "U,Q = surprise_svd(df_total,10000,1000)\n",
    "\n",
    "#Generate User Affinity\n",
    "user_dict = {}\n",
    "for i in range(10000):\n",
    "    user_cosine = []\n",
    "    for j in range(1000):\n",
    "        user_cosine.append(cosine(U[i],Q[j])) \n",
    "    user_cosine.sort(reverse=True)\n",
    "    user_dict[i] = string_agg(user_cosine[:100])\n",
    "\n",
    "#Generate Movie Affinity\n",
    "movie_dict = {}\n",
    "for i in range(1000):\n",
    "    movie_cosine = []\n",
    "    for j in range(10000):\n",
    "        movie_cosine.append(cosine(Q[i],U[j]))\n",
    "    movie_cosine.sort(reverse=True)\n",
    "    movie_dict[i] = string_agg(movie_cosine[:100])\n",
    "    \n",
    "#Store the Affinitites\n",
    "user_f = pd.DataFrame.from_dict(user_dict.items())\n",
    "user_f.columns = ['userID', 'user_cosine_f']\n",
    "\n",
    "movie_f = pd.DataFrame.from_dict(movie_dict.items())\n",
    "movie_f.columns = ['movieID', 'movie_cosine_f']\n",
    "\n",
    "\n",
    "#Get & Store Implicit Features on Total Data\n",
    "user_f['user_implicit_features'] = df_total.groupby('userID').movieID.agg(string_agg).reindex(user_f.index).fillna('')\n",
    "movie_f['movie_implicit_features'] = df_total.groupby('movieID').userID.agg(string_agg).reindex(movie_f.index).fillna('')\n",
    "\n",
    "#Create User Encoder for total data\n",
    "user_encoder = DataFrameEncoder().add_column(\n",
    "    'userID', CategoryValueToSparseEncoder(user_f.userID)\n",
    "    )\n",
    "\n",
    "user_encoder.add_column(\n",
    "        'user_implicit_features',\n",
    "        MultipleValuesToSparseEncoder(user_f.user_implicit_features, normalize=True)\n",
    "    )\n",
    "\n",
    "user_encoder.add_column(\n",
    "        'user_cosine_f',\n",
    "        MultipleValuesToSparseEncoder(user_f.user_cosine_f, normalize=True)\n",
    "    )\n",
    "\n",
    "#Create Movie Encoder for total data\n",
    "movie_encoder = DataFrameEncoder().add_column(\n",
    "    'movieID', CategoryValueToSparseEncoder(movie_f.movieID)\n",
    "    )\n",
    "movie_encoder.add_column(\n",
    "        'movie_implicit_features',\n",
    "        MultipleValuesToSparseEncoder(movie_f.movie_implicit_features, normalize=True)\n",
    "    )\n",
    "movie_encoder.add_column(\n",
    "        'movie_cosine_f',\n",
    "        MultipleValuesToSparseEncoder(movie_f.movie_cosine_f, normalize=True)\n",
    "    )\n",
    "\n",
    "\n",
    "#Generate Train Blocks on total data\n",
    "group_shapes = user_encoder.encoder_shapes + movie_encoder.encoder_shapes\n",
    "\n",
    "total_train_blocks = []\n",
    "for source, target in [(df_total, total_train_blocks)]:\n",
    "    unique_users, user_map = np.unique(source.userID, return_inverse=True)\n",
    "    target.append(\n",
    "        RelationBlock(user_map, augment_user_id(unique_users))\n",
    "    )\n",
    "    unique_movies, movie_map = np.unique(source.movieID, return_inverse=True)\n",
    "    target.append(\n",
    "        RelationBlock(movie_map, augment_movie_id(unique_movies))\n",
    "    )\n",
    "\n",
    "\n",
    "#Train the model\n",
    "fm = myfm.MyFMRegressor(rank=best_r,random_seed=1234)\n",
    "fm.fit(None, df_total.rating.values, X_rel=train_blocks,\n",
    "    group_shapes=group_shapes,\n",
    "    n_iter=best_n, n_kept_samples=best_s\n",
    ")"
   ]
  },
  {
   "cell_type": "markdown",
   "id": "126100b1",
   "metadata": {},
   "source": [
    "## Generate predictions for Submission"
   ]
  },
  {
   "cell_type": "code",
   "execution_count": null,
   "id": "8263b09a",
   "metadata": {},
   "outputs": [],
   "source": [
    "#Load Submission File\n",
    "sub_pd = pd.read_csv('data/sampleSubmission.csv',index_col='Id')\n",
    "sub_users, sub_movies, sub_pred = extract_users_items_predictions(sub_pd)\n",
    "sub_test_ratings_dict = {'userID': sub_users,'movieID': sub_movies,'rating': subpred}\n",
    "sub_df = pd.DataFrame(sub_test_ratings_dict)\n",
    "\n",
    "#Generate Submission Test Blocks\n",
    "sub_test_blocks = []\n",
    "for source, target in [(sub_df, sub_test_blocks)]:\n",
    "    unique_users, user_map = np.unique(source.userID, return_inverse=True)\n",
    "    target.append(\n",
    "        RelationBlock(user_map, augment_user_id(unique_users))\n",
    "    )\n",
    "    unique_movies, movie_map = np.unique(source.movieID, return_inverse=True)\n",
    "    target.append(\n",
    "        RelationBlock(movie_map, augment_movie_id(unique_movies))\n",
    "    )\n",
    "\n",
    "#Generate Predictions and create submission csv    \n",
    "predictions = fm.predict(None, sub_test_blocks)\n",
    "sub_pd['Prediction'] = test_predictions\n",
    "sub_pd.to_csv(\"submission_bayesian_svdpp_flipped_cosine.csv\")"
   ]
  }
 ],
 "metadata": {
  "kernelspec": {
   "display_name": "Python 3 (ipykernel)",
   "language": "python",
   "name": "python3"
  },
  "language_info": {
   "codemirror_mode": {
    "name": "ipython",
    "version": 3
   },
   "file_extension": ".py",
   "mimetype": "text/x-python",
   "name": "python",
   "nbconvert_exporter": "python",
   "pygments_lexer": "ipython3",
   "version": "3.9.7"
  }
 },
 "nbformat": 4,
 "nbformat_minor": 5
}
