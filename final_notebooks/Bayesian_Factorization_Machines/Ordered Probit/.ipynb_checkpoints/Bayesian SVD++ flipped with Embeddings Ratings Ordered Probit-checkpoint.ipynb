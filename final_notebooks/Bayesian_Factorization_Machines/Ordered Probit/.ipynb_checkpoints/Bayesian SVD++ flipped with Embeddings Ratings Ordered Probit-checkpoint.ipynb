{
 "cells": [
  {
   "cell_type": "markdown",
   "id": "cfac107a",
   "metadata": {},
   "source": [
    "## Installs"
   ]
  },
  {
   "cell_type": "code",
   "execution_count": null,
   "id": "561ac45e",
   "metadata": {},
   "outputs": [],
   "source": [
    "#Install packages to apply SVD and Bayesian Factorization Machine\n",
    "!pip install surprise\n",
    "\n",
    "!pip install myfm"
   ]
  },
  {
   "cell_type": "markdown",
   "id": "db612bf8",
   "metadata": {},
   "source": [
    "## Imports"
   ]
  },
  {
   "cell_type": "code",
   "execution_count": 1,
   "id": "402f6563",
   "metadata": {},
   "outputs": [],
   "source": [
    "# To store the data\n",
    "import pandas as pd\n",
    "\n",
    "# To do linear algebra\n",
    "import numpy as np\n",
    "\n",
    "# To apply SVD\n",
    "import surprise\n",
    "\n",
    "# To apply Factorization Machines\n",
    "import myfm\n",
    "from myfm import RelationBlock\n",
    "from myfm.utils.encoders import(DataFrameEncoder,MultipleValuesToSparseEncoder,CategoryValueToSparseEncoder)\n",
    "\n",
    "# To do train-test split for evaluation\n",
    "from sklearn.model_selection import train_test_split"
   ]
  },
  {
   "cell_type": "markdown",
   "id": "47b0f921",
   "metadata": {},
   "source": [
    "## Load Data"
   ]
  },
  {
   "cell_type": "code",
   "execution_count": 3,
   "id": "04f8286c",
   "metadata": {},
   "outputs": [],
   "source": [
    "#Function to Extract users, movies and ratings from raw data\n",
    "def extract_users_items_predictions(data_pd):\n",
    "    users, movies = \\\n",
    "        [np.squeeze(arr) for arr in np.split(data_pd.Id.str.extract('r(\\d+)_c(\\d+)').values.astype(int) - 1, 2, axis=-1)]\n",
    "    predictions = data_pd.Prediction.values\n",
    "    return users, movies, predictions\n",
    "\n",
    "#Load raw data\n",
    "data_pd = pd.read_csv('../../../data/data_train.csv')\n",
    "\n",
    "#Do Train-Test Split\n",
    "train, val = train_test_split(data_pd, test_size=0.1,random_state=42)\n",
    "\n",
    "#Extract users, movies and ratings from raw data\n",
    "total_users, total_movies, total_pred = extract_users_items_predictions(data_pd)\n",
    "train_users, train_movies, train_pred = extract_users_items_predictions(train)\n",
    "val_users, val_movies, val_pred = extract_users_items_predictions(val)\n",
    "\n",
    "#Store total data\n",
    "ratings_dict_total = {'userID': total_users,'movieID': total_movies,'rating': total_pred}\n",
    "df_total = pd.DataFrame(ratings_dict_total)\n",
    "\n",
    "#Store train data\n",
    "ratings_dict_train = {'userID': train_users,'movieID': train_movies,'rating': train_pred}\n",
    "df_train = pd.DataFrame(ratings_dict_train)\n",
    "\n",
    "#Store validation data\n",
    "ratings_dict_test = {'userID': val_users,'movieID': val_movies,'rating': val_pred}\n",
    "df_test = pd.DataFrame(ratings_dict_test)"
   ]
  },
  {
   "cell_type": "markdown",
   "id": "7340fb0a",
   "metadata": {},
   "source": [
    "## Get cosine and implicit user/movie Features"
   ]
  },
  {
   "cell_type": "code",
   "execution_count": 4,
   "id": "9c754296",
   "metadata": {},
   "outputs": [],
   "source": [
    "'''Code adapted from https://github.com/tohtsky/myFM/blob/main/examples/ml-100k-extended.ipynb'''\n",
    "\n",
    "#Utility function to convert list to str\n",
    "def string_agg(int_list) -> str:\n",
    "    return ','.join([str(y) for y in int_list])\n",
    "\n",
    "def aggr(int_list):\n",
    "    return [y for y in int_list]\n",
    "\n",
    "#Get & Store Implicit Features\n",
    "user_f = pd.DataFrame(np.arange(10000),columns=['userID'])\n",
    "user_f['implicit_features'] = df_train.groupby('userID').movieID.agg(string_agg).reindex(user_f.index).fillna('')\n",
    "user_f['rating_features'] = df_train.groupby('userID').rating.agg(aggr).reindex(user_f.index).fillna('')\n",
    "user_f['user_metadata'] = user_f[['implicit_features', 'rating_features']].to_dict(orient='records')\n",
    "movie_f = pd.DataFrame(np.arange(1000),columns=['movieID'])\n",
    "movie_f['implicit_features'] = df_train.groupby('movieID').userID.agg(string_agg).reindex(movie_f.index).fillna('')\n",
    "movie_f['rating_features'] = df_train.groupby('movieID').rating.agg(aggr).reindex(movie_f.index).fillna('')\n",
    "movie_f['movie_metadata'] = movie_f[['implicit_features', 'rating_features']].to_dict(orient='records')"
   ]
  },
  {
   "cell_type": "code",
   "execution_count": 5,
   "id": "164bafe8",
   "metadata": {},
   "outputs": [],
   "source": [
    "from typing import Iterable\n",
    "\n",
    "import scipy.sparse as sps\n",
    "from typing_extensions import Literal\n",
    "\n",
    "\n",
    "\n",
    "class WeightMultipleValuesToSparseEncoder(CategoryValueToSparseEncoder[str]):\n",
    "    \"\"\"The class to N-hot encode a List of items into a sparse matrix representation.\"\"\"\n",
    "\n",
    "    def __init__(\n",
    "        self,\n",
    "        items: Iterable[str],\n",
    "        min_freq: int = 1,\n",
    "        sep: str = \",\",\n",
    "        normalize: bool = True,\n",
    "        handle_unknown: Literal[\"create\", \"ignore\", \"raise\"] = \"create\",\n",
    "    ):\n",
    "        \"\"\"Construct the encoder by providing a list of strings,\n",
    "        each of which is a list of strings concatenated by `sep`.\n",
    "        Parameters\n",
    "        ----------\n",
    "        items : Iterable[str]\n",
    "            Iterable of strings, each of which is a concatenated list of possibly multiple items.\n",
    "        min_freq : int, optional\n",
    "            The minimal frequency for an item to be retained in the known items list, by default 1.\n",
    "        sep: str, optional\n",
    "            Tells how to separate string back into a list. Defaults to `','`.\n",
    "        normalize: bool, optional\n",
    "            If `True`, non-zero entry in the encoded matrix will have `1 / N ** 0.5`,\n",
    "            where `N` is the number of non-zero entries in that row. Defaults to `True`.\n",
    "        handle_unknown: Literal[\"create\", \"ignore\", \"raise\"], optional\n",
    "            How to handle previously unseen values during encoding.\n",
    "            If \"create\", then there is a single category named \"__UNK__\" for unknown values,\n",
    "            ant it is treated as 0th category.\n",
    "            If \"ignore\", such an item will be ignored.\n",
    "            If \"raise\", a `KeyError` is raised.\n",
    "            Defaults to \"create\".\n",
    "        \"\"\"\n",
    "        items_flatten = [\n",
    "            y for x in items for y in set(x['implicit_features'].split(sep)) if y\n",
    "        ]  # ignore empty string.\n",
    "        self.sep = sep\n",
    "        self.normalize = normalize\n",
    "        super().__init__(\n",
    "            items_flatten, min_freq=min_freq, handle_unknown=handle_unknown\n",
    "        )\n",
    "\n",
    "    def to_sparse(self, items: Iterable[str]) -> sps.csr_matrix:\n",
    "        indptr = [0]\n",
    "        indices = []\n",
    "        data = []\n",
    "        n_row = 0\n",
    "        cursor = 0\n",
    "        for row in items:\n",
    "            #print(\"***\")\n",
    "            n_row += 1\n",
    "            items = row['implicit_features'].split(self.sep)\n",
    "            '''for v in items:\n",
    "                print((v,self._get_index(v)))'''\n",
    "            '''indices_local = list(\n",
    "                    {\n",
    "                        index\n",
    "                        for index in [self._get_index(v) for v in items if v]\n",
    "                        if index is not None\n",
    "                    }\n",
    "                \n",
    "            )'''\n",
    "            indices_local = [self._get_index(v) for v in items if v]\n",
    "            \n",
    "           \n",
    "\n",
    "            if not indices_local:\n",
    "                indptr.append(cursor)\n",
    "                continue\n",
    "            n = len(indices_local)\n",
    "            #value = 1.0 / (float(n) ** 0.5) if self.normalize else 1.0\n",
    "            indices.extend(indices_local)\n",
    "            #data.extend([value] * n)\n",
    "            weights = row['rating_features']\n",
    "            total_weights = sum(weights)\n",
    "            values = []\n",
    "            for i in range(n):\n",
    "                values.append(weights[i] / total_weights)\n",
    "            data.extend(values)\n",
    "                \n",
    "            cursor += n\n",
    "            indptr.append(cursor)\n",
    "        return sps.csr_matrix(\n",
    "            (data, indices, indptr),\n",
    "            shape=(n_row, len(self)),\n",
    "        )\n",
    "    \n",
    "        "
   ]
  },
  {
   "cell_type": "markdown",
   "id": "cc6613ea",
   "metadata": {},
   "source": [
    "# Transform Data in myfm Format"
   ]
  },
  {
   "cell_type": "code",
   "execution_count": 6,
   "id": "e42078c4",
   "metadata": {},
   "outputs": [],
   "source": [
    "#Create User Encoder\n",
    "user_encoder = DataFrameEncoder().add_column(\n",
    "    'userID', CategoryValueToSparseEncoder(user_f.userID)\n",
    "    )\n",
    "\n",
    "user_encoder.add_column(\n",
    "        'user_metadata',\n",
    "        WeightMultipleValuesToSparseEncoder(user_f.user_metadata, normalize=True)\n",
    "    )\n",
    "\n",
    "\n",
    "#Create Movie Encoder\n",
    "movie_encoder = DataFrameEncoder().add_column(\n",
    "    'movieID', CategoryValueToSparseEncoder(movie_f.movieID)\n",
    "    )\n",
    "movie_encoder.add_column(\n",
    "        'movie_metadata',\n",
    "        WeightMultipleValuesToSparseEncoder(movie_f.movie_metadata, normalize=True)\n",
    "    )\n",
    "\n",
    "\n",
    "def augment_user_id(user_ids):\n",
    "    return user_encoder.encode_df(\n",
    "        user_f.reindex(user_ids).reset_index()\n",
    "    )\n",
    "\n",
    "def augment_movie_id(movie_ids):\n",
    "    return movie_encoder.encode_df(\n",
    "        movie_f.reindex(movie_ids).reset_index()\n",
    "    )\n",
    "\n",
    "\n",
    "#Create Train/Test Blocks\n",
    "train_blocks = []\n",
    "test_blocks = []\n",
    "for source, target in [(df_train, train_blocks),(df_test, test_blocks)]:\n",
    "    unique_users, user_map = np.unique(source.userID, return_inverse=True)\n",
    "    target.append(\n",
    "        RelationBlock(user_map, augment_user_id(unique_users))\n",
    "    )\n",
    "    unique_movies, movie_map = np.unique(source.movieID, return_inverse=True)\n",
    "    target.append(\n",
    "        RelationBlock(movie_map, augment_movie_id(unique_movies))\n",
    "    )"
   ]
  },
  {
   "cell_type": "markdown",
   "id": "34e0775f",
   "metadata": {},
   "source": [
    "## Evaluation and Parameter Tuning"
   ]
  },
  {
   "cell_type": "code",
   "execution_count": 7,
   "id": "49a1295f",
   "metadata": {},
   "outputs": [
    {
     "name": "stderr",
     "output_type": "stream",
     "text": [
      "w0 = 0.10, cutpoint = ['-2.282', '-1.527', '-0.537', '0.354'] : 100%|█| 500/500 \n"
     ]
    },
    {
     "name": "stdout",
     "output_type": "stream",
     "text": [
      "0.9686949397429027\n"
     ]
    }
   ],
   "source": [
    "# Return root mean square error metric\n",
    "def RMSE(x: np.ndarray, y: np.ndarray) -> float:\n",
    "    return np.sqrt(np.average((x - y) ** 2))\n",
    "\n",
    "# Function to do parameter tuning\n",
    "def validation(user_encoder,movie_encoder,df_train,train_blocks,test_blocks,val_predictions):\n",
    "    group_shapes = user_encoder.encoder_shapes + movie_encoder.encoder_shapes\n",
    "\n",
    "    rank = [16]\n",
    "    n_iter = [500]\n",
    "    n_samples = [495]\n",
    "\n",
    "    best_rmse = 1\n",
    "    best_r = 0\n",
    "    best_n = 0\n",
    "    best_s = 0\n",
    "\n",
    "    for r in rank:\n",
    "        for i in range(len(n_iter)):\n",
    "            fm_probit = myfm.MyFMOrderedProbit(rank=r, random_seed=1234)\n",
    "            fm_probit.fit(None, df_train.rating.values - 1, X_rel=train_blocks,\n",
    "                          group_shapes=group_shapes,n_iter=n_iter[i], n_kept_samples=n_samples[i])\n",
    "            test_prediction_ordered_prob = fm_probit.predict_proba(None, test_blocks)\n",
    "            test_prediction_ordered_mean = 1 + test_prediction_ordered_prob.dot(np.arange(5)) # class 0 => rating 1 shift\n",
    "            rmse = RMSE(val_predictions,test_prediction_ordered_mean)\n",
    "            if rmse < best_rmse:\n",
    "                best_rmse = rmse\n",
    "                best_r = r\n",
    "                best_n = n_iter[i]\n",
    "                best_s = n_samples[i]\n",
    "                print(best_rmse)\n",
    "                \n",
    "    return best_rmse,best_r,best_n,best_s\n",
    "\n",
    "best_rmse,best_r,best_n,best_s = validation(user_encoder,movie_encoder,df_train,train_blocks,test_blocks,val_pred)"
   ]
  },
  {
   "cell_type": "code",
   "execution_count": 8,
   "id": "028d376e",
   "metadata": {},
   "outputs": [
    {
     "name": "stdout",
     "output_type": "stream",
     "text": [
      "Validation RMSE using model 0.9686949397429027\n"
     ]
    }
   ],
   "source": [
    "print(\"Validation RMSE using model \" + str(best_rmse))"
   ]
  },
  {
   "cell_type": "markdown",
   "id": "7f8c1102",
   "metadata": {},
   "source": [
    "# Generate Features & Train the model on Total Data"
   ]
  },
  {
   "cell_type": "code",
   "execution_count": 9,
   "id": "ffa8cdc4",
   "metadata": {},
   "outputs": [
    {
     "name": "stderr",
     "output_type": "stream",
     "text": [
      "w0 = 0.06, cutpoint = ['-1.994', '-1.237', '-0.252', '0.637'] : 100%|█| 500/500 \n"
     ]
    },
    {
     "data": {
      "text/plain": [
       "<myfm.gibbs.MyFMOrderedProbit at 0x29c941700>"
      ]
     },
     "execution_count": 9,
     "metadata": {},
     "output_type": "execute_result"
    }
   ],
   "source": [
    "U,Q = surprise_svd(df_total,10000,1000)\n",
    "\n",
    "#Generate User Vectors\n",
    "user_vec = []\n",
    "for i in range(10000):\n",
    "    user_vec.append(dict(enumerate(np.array(U[i]).flatten(), 1)))\n",
    "\n",
    "#Generate Movie Vectors\n",
    "movie_vec = []\n",
    "for i in range(1000):\n",
    "    movie_vec.append(dict(enumerate(np.array(Q[i]).flatten(), 1)))\n",
    "\n",
    "user_f = pd.DataFrame(np.arange(10000),columns=['userID'])\n",
    "user_f['user_implicit_features'] = df_total.groupby('userID').movieID.agg(string_agg).reindex(user_f.index).fillna('')\n",
    "user_f['user_vec'] = user_vec\n",
    "\n",
    "\n",
    "\n",
    "movie_f = pd.DataFrame(np.arange(1000),columns=['movieID'])\n",
    "movie_f['movie_implicit_features'] = df_total.groupby('movieID').userID.agg(string_agg).reindex(movie_f.index).fillna('')\n",
    "movie_f['movie_vec'] = movie_vec\n",
    "\n",
    "#Create User Encoder\n",
    "user_encoder = DataFrameEncoder().add_column(\n",
    "    'userID', CategoryValueToSparseEncoder(user_f.userID)\n",
    "    )\n",
    "\n",
    "user_encoder.add_column(\n",
    "        'user_implicit_features',\n",
    "        MultipleValuesToSparseEncoder(user_f.user_implicit_features, normalize=True)\n",
    "    )\n",
    "\n",
    "user_encoder.add_column(\n",
    "        'user_vec',\n",
    "        ValuesToSparseEncoder(user_f.user_vec, normalize=True)\n",
    "    )\n",
    "\n",
    "#Create Movie Encoder\n",
    "movie_encoder = DataFrameEncoder().add_column(\n",
    "    'movieID', CategoryValueToSparseEncoder(movie_f.movieID)\n",
    "    )\n",
    "movie_encoder.add_column(\n",
    "        'movie_implicit_features',\n",
    "        MultipleValuesToSparseEncoder(movie_f.movie_implicit_features, normalize=True)\n",
    "    )\n",
    "movie_encoder.add_column(\n",
    "        'movie_vec',\n",
    "        ValuesToSparseEncoder(movie_f.movie_vec, normalize=True)\n",
    "    )\n",
    "\n",
    "\n",
    "def augment_user_id(user_ids):\n",
    "    return user_encoder.encode_df(\n",
    "        user_f.reindex(user_ids).reset_index()\n",
    "    )\n",
    "\n",
    "def augment_movie_id(movie_ids):\n",
    "    return movie_encoder.encode_df(\n",
    "        movie_f.reindex(movie_ids).reset_index()\n",
    "    )\n",
    "\n",
    "\n",
    "#Generate Train Blocks on total data\n",
    "group_shapes = user_encoder.encoder_shapes + movie_encoder.encoder_shapes\n",
    "\n",
    "total_train_blocks = []\n",
    "for source, target in [(df_total, total_train_blocks)]:\n",
    "    unique_users, user_map = np.unique(source.userID, return_inverse=True)\n",
    "    target.append(\n",
    "        RelationBlock(user_map, augment_user_id(unique_users))\n",
    "    )\n",
    "    unique_movies, movie_map = np.unique(source.movieID, return_inverse=True)\n",
    "    target.append(\n",
    "        RelationBlock(movie_map, augment_movie_id(unique_movies))\n",
    "    )\n",
    "\n",
    "\n",
    "#Train the model\n",
    "fm_probit = myfm.MyFMOrderedProbit(rank=best_r, random_seed=1234)\n",
    "fm_probit.fit(None, df_total.rating.values - 1, X_rel=total_train_blocks,\n",
    "                          group_shapes=group_shapes,n_iter=best_n, n_kept_samples=best_s)"
   ]
  },
  {
   "cell_type": "markdown",
   "id": "9c3dda0c",
   "metadata": {},
   "source": [
    "## Generate predictions for Submission"
   ]
  },
  {
   "cell_type": "code",
   "execution_count": 10,
   "id": "24a8fc29",
   "metadata": {},
   "outputs": [],
   "source": [
    "#Load Submission File\n",
    "sub_pd = pd.read_csv('data/sampleSubmission.csv')\n",
    "sub_users, sub_movies, sub_pred = extract_users_items_predictions(sub_pd)\n",
    "sub_test_ratings_dict = {'userID': sub_users,'movieID': sub_movies,'rating': sub_pred}\n",
    "sub_df = pd.DataFrame(sub_test_ratings_dict)\n",
    "\n",
    "#Generate Submission Test Blocks\n",
    "sub_test_blocks = []\n",
    "for source, target in [(sub_df, sub_test_blocks)]:\n",
    "    unique_users, user_map = np.unique(source.userID, return_inverse=True)\n",
    "    target.append(\n",
    "        RelationBlock(user_map, augment_user_id(unique_users))\n",
    "    )\n",
    "    unique_movies, movie_map = np.unique(source.movieID, return_inverse=True)\n",
    "    target.append(\n",
    "        RelationBlock(movie_map, augment_movie_id(unique_movies))\n",
    "    )\n",
    "\n",
    "#Generate Predictions and create submission csv    \n",
    "test_prediction_ordered_prob = fm_probit.predict_proba(None, sub_test_blocks)\n",
    "test_prediction_ordered_mean = 1 + test_prediction_ordered_prob.dot(np.arange(5))\n",
    "sub_pd['Prediction'] = test_prediction_ordered_mean\n",
    "sub_pd.set_index(\"Id\", inplace = True)\n",
    "sub_pd.to_csv(\"submission_bayesian_svdpp_flipped_embeddings_ordered_probit.csv\")"
   ]
  },
  {
   "cell_type": "code",
   "execution_count": null,
   "id": "a5fa3432",
   "metadata": {},
   "outputs": [],
   "source": []
  }
 ],
 "metadata": {
  "kernelspec": {
   "display_name": "Python 3 (ipykernel)",
   "language": "python",
   "name": "python3"
  },
  "language_info": {
   "codemirror_mode": {
    "name": "ipython",
    "version": 3
   },
   "file_extension": ".py",
   "mimetype": "text/x-python",
   "name": "python",
   "nbconvert_exporter": "python",
   "pygments_lexer": "ipython3",
   "version": "3.9.7"
  }
 },
 "nbformat": 4,
 "nbformat_minor": 5
}
